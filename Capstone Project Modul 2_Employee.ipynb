{
 "cells": [
  {
   "cell_type": "markdown",
   "metadata": {},
   "source": [
    "# **DATA UNDERSTANDING**"
   ]
  },
  {
   "cell_type": "markdown",
   "metadata": {},
   "source": [
    "## **Context**\n",
    "\n",
    "Database Northwind ini menggambarkan database milik suatu perusahaan fiktif yang bernama Northwind Traders dimana perusahaan ini bergerak dalam bidang eksport import makanan. Dalam database ini terdapat tabel-tabel seperti layaknya dalam suatu perusahaan eksport import seperti tabel Customers, Employee, Orders, Suppliers dan lain sebagainya.\n",
    "\n",
    "## **Database Information**\n",
    "\n",
    "Sumber Database: https://drive.google.com/drive/folders/1fTHrwh_gcLsOFKXHnUzUGEu_APxLoD9i\n",
    "\n",
    "Database yang dimiliki mempunyai 13 tabel, yaitu:\n",
    "- Customers     : Menyimpan informasi tentang data pelanggan/customer.\n",
    "- Customer Demographics : Menyimpan informasi demografis dari customer\n",
    "- Suppliers     : Menyimpan infrormasi pihak / perusahaan pemasok produk-produk untuk perusahaan Northwind.\n",
    "- Shippers      : Menyimpan informasi pihak kurir / pengirim.\n",
    "- Employees     : Menyimpan semua informasi tentang karyawan.\n",
    "- Products      : Menyimpan informasi tentang jenis produk.\n",
    "- Categories    : Menyimpan informasi tentang kategori jenis produk beserta detail informasi lainnya.\n",
    "- Orders        : Menyimpan informasi jual-beli yang dilakukan oleh pelanggan.\n",
    "- OrderDetails  : Menyimpan detail dari setiap pesanan yang dilakukan oleh pelanggan.\n",
    "- Region        : Menyimpan informasi seluruh region pada data.\n",
    "- Territories   : Menyimpan informasi seluruh territories pada data.\n",
    "- Employee Territories  : Menyimpan informasi teritori / lokasi kerja karyawan Northwind. \n",
    "\n",
    "Setiap tabel yang tertera pada database dapat terhubung, baik secara langsung maupun tidak langsung, sehingga setiap informasi dari database ini akan dapat saling berkaitan."
   ]
  },
  {
   "cell_type": "code",
   "execution_count": 1,
   "metadata": {},
   "outputs": [
    {
     "name": "stdout",
     "output_type": "stream",
     "text": [
      "Requirement already satisfied: mysql-connector-python in c:\\users\\user\\appdata\\local\\programs\\python\\python310\\lib\\site-packages (8.0.28)\n",
      "Requirement already satisfied: protobuf>=3.0.0 in c:\\users\\user\\appdata\\local\\programs\\python\\python310\\lib\\site-packages (from mysql-connector-python) (3.19.4)\n"
     ]
    }
   ],
   "source": [
    "!pip install mysql-connector-python"
   ]
  },
  {
   "cell_type": "markdown",
   "metadata": {},
   "source": [
    "# **DATABASE**"
   ]
  },
  {
   "cell_type": "markdown",
   "metadata": {},
   "source": [
    "## **Connecting To Database**\n",
    "\n",
    "Bagian ini merupakan langkah awal untuk mulai melakukan proses analisis data. Pertama adalah membuat koneksi ke database di mana seperti yang sudah dijelaskan sebelumnya, database yang akan digunakan adalah database ``northwind database``. Dengan melakukan koneksi ini, kita dapat mengakses seluruh tabel yang ada pada database.\n"
   ]
  },
  {
   "cell_type": "code",
   "execution_count": 2,
   "metadata": {},
   "outputs": [],
   "source": [
    "# Import Modules\n",
    "\n",
    "import pandas as pd\n",
    "import numpy as np\n",
    "\n",
    "import mysql.connector\n",
    "import mysql.connector as sqlcon"
   ]
  },
  {
   "cell_type": "code",
   "execution_count": 3,
   "metadata": {},
   "outputs": [],
   "source": [
    "# Connect To Database\n",
    "\n",
    "mydb = sqlcon.connect(\n",
    "    host = 'localhost',\n",
    "    user = 'root',\n",
    "    passwd = 'Qwerty123@',\n",
    "    database = 'northwind'\n",
    ")"
   ]
  },
  {
   "cell_type": "markdown",
   "metadata": {},
   "source": [
    "Selain melakukan koneksi ke database, hal lain yang perlu dilakukan pada bagian awal ini adalah membuat sebuah fungsi untuk menuliskan ``query`` yang kemudian akan disimpan dalam bentuk DataFrame. Tujuannya adalah agar data hasil ``query`` yang dibuat dapat disimpan dan digunakan untuk keperluan analisis data. Nantinya, di sini terdapat 2 query untuk mengambil data-data yang ada di database, bukan hanya berasal dari 1 tabel, tapi juga akan melibatkan hubungan antar tabel."
   ]
  },
  {
   "cell_type": "code",
   "execution_count": 4,
   "metadata": {},
   "outputs": [],
   "source": [
    "# Query Function\n",
    "\n",
    "curs = mydb.cursor()\n",
    "\n",
    "def sql_table (query) :\n",
    "    curs.execute (query)\n",
    "    result = curs.fetchall()\n",
    "    tabel1 = pd.DataFrame(result, columns=curs.column_names)\n",
    "    return tabel1"
   ]
  },
  {
   "cell_type": "markdown",
   "metadata": {},
   "source": [
    "## **Data Detail dan Keuntungan Transaksi**\n",
    "Data pertama ini merupakan data yang nantinya akan dianalisa lebih lanjut. Data ini merupakan gabungan dari 4 tabel utama, yaitu tabel ```employee```, ```employeeterritories```, ```territories```, dan ```region```."
   ]
  },
  {
   "cell_type": "code",
   "execution_count": 5,
   "metadata": {},
   "outputs": [
    {
     "data": {
      "text/html": [
       "<div>\n",
       "<style scoped>\n",
       "    .dataframe tbody tr th:only-of-type {\n",
       "        vertical-align: middle;\n",
       "    }\n",
       "\n",
       "    .dataframe tbody tr th {\n",
       "        vertical-align: top;\n",
       "    }\n",
       "\n",
       "    .dataframe thead th {\n",
       "        text-align: right;\n",
       "    }\n",
       "</style>\n",
       "<table border=\"1\" class=\"dataframe\">\n",
       "  <thead>\n",
       "    <tr style=\"text-align: right;\">\n",
       "      <th></th>\n",
       "      <th>EmployeeID</th>\n",
       "      <th>FirstName</th>\n",
       "      <th>LastName</th>\n",
       "      <th>Title</th>\n",
       "      <th>TitleOfCourtesy</th>\n",
       "      <th>BirthDate</th>\n",
       "      <th>HireDate</th>\n",
       "      <th>Address</th>\n",
       "      <th>City</th>\n",
       "      <th>Region</th>\n",
       "      <th>...</th>\n",
       "      <th>ReportsTo</th>\n",
       "      <th>PhotoPath</th>\n",
       "      <th>Salary</th>\n",
       "      <th>EmployeeID</th>\n",
       "      <th>TerritoryID</th>\n",
       "      <th>TerritoryID</th>\n",
       "      <th>TerritoryDescription</th>\n",
       "      <th>RegionID</th>\n",
       "      <th>RegionID</th>\n",
       "      <th>RegionDescription</th>\n",
       "    </tr>\n",
       "  </thead>\n",
       "  <tbody>\n",
       "    <tr>\n",
       "      <th>0</th>\n",
       "      <td>1</td>\n",
       "      <td>Nancy</td>\n",
       "      <td>Davolio</td>\n",
       "      <td>Sales Representative</td>\n",
       "      <td>Ms.</td>\n",
       "      <td>1948-12-08</td>\n",
       "      <td>1992-05-01</td>\n",
       "      <td>507 - 20th Ave. E.Apt. 2A</td>\n",
       "      <td>Seattle</td>\n",
       "      <td>WA</td>\n",
       "      <td>...</td>\n",
       "      <td>2.0</td>\n",
       "      <td>http://accweb/emmployees/davolio.bmp</td>\n",
       "      <td>2954.55</td>\n",
       "      <td>1</td>\n",
       "      <td>06897</td>\n",
       "      <td>06897</td>\n",
       "      <td>Wilton                                        ...</td>\n",
       "      <td>1</td>\n",
       "      <td>1</td>\n",
       "      <td>Eastern                                       ...</td>\n",
       "    </tr>\n",
       "    <tr>\n",
       "      <th>1</th>\n",
       "      <td>1</td>\n",
       "      <td>Nancy</td>\n",
       "      <td>Davolio</td>\n",
       "      <td>Sales Representative</td>\n",
       "      <td>Ms.</td>\n",
       "      <td>1948-12-08</td>\n",
       "      <td>1992-05-01</td>\n",
       "      <td>507 - 20th Ave. E.Apt. 2A</td>\n",
       "      <td>Seattle</td>\n",
       "      <td>WA</td>\n",
       "      <td>...</td>\n",
       "      <td>2.0</td>\n",
       "      <td>http://accweb/emmployees/davolio.bmp</td>\n",
       "      <td>2954.55</td>\n",
       "      <td>1</td>\n",
       "      <td>19713</td>\n",
       "      <td>19713</td>\n",
       "      <td>Neward                                        ...</td>\n",
       "      <td>1</td>\n",
       "      <td>1</td>\n",
       "      <td>Eastern                                       ...</td>\n",
       "    </tr>\n",
       "  </tbody>\n",
       "</table>\n",
       "<p>2 rows × 25 columns</p>\n",
       "</div>"
      ],
      "text/plain": [
       "  EmployeeID FirstName LastName                 Title TitleOfCourtesy  \\\n",
       "0          1     Nancy  Davolio  Sales Representative             Ms.   \n",
       "1          1     Nancy  Davolio  Sales Representative             Ms.   \n",
       "\n",
       "   BirthDate   HireDate                    Address     City Region  ...  \\\n",
       "0 1948-12-08 1992-05-01  507 - 20th Ave. E.Apt. 2A  Seattle     WA  ...   \n",
       "1 1948-12-08 1992-05-01  507 - 20th Ave. E.Apt. 2A  Seattle     WA  ...   \n",
       "\n",
       "  ReportsTo                             PhotoPath   Salary EmployeeID  \\\n",
       "0       2.0  http://accweb/emmployees/davolio.bmp  2954.55          1   \n",
       "1       2.0  http://accweb/emmployees/davolio.bmp  2954.55          1   \n",
       "\n",
       "   TerritoryID  TerritoryID  \\\n",
       "0        06897        06897   \n",
       "1        19713        19713   \n",
       "\n",
       "                                TerritoryDescription  RegionID  RegionID  \\\n",
       "0  Wilton                                        ...         1         1   \n",
       "1  Neward                                        ...         1         1   \n",
       "\n",
       "                                   RegionDescription  \n",
       "0  Eastern                                       ...  \n",
       "1  Eastern                                       ...  \n",
       "\n",
       "[2 rows x 25 columns]"
      ]
     },
     "execution_count": 5,
     "metadata": {},
     "output_type": "execute_result"
    }
   ],
   "source": [
    "# Query table 00\n",
    "\n",
    "tabel0 = sql_table (\n",
    "    '''\n",
    "select e.EmployeeID, e.FirstName, e.LastName, e.Title, e.TitleOfCourtesy, e.BirthDate, e.HireDate, e.Address, e.City, e.Region, e.PostalCode, e.Country, e.HomePhone, e.Extension, e.Notes, e.ReportsTo, e.PhotoPath, e.Salary,\n",
    "et.EmployeeID, et.TerritoryID,\n",
    "te.TerritoryID, te.TerritoryDescription, te.RegionID,\n",
    "r.RegionID, r.RegionDescription\n",
    "from employees e\n",
    "left join employeeterritories et on e.EmployeeID = et.EmployeeID\n",
    "left join territories te on et.TerritoryID = te.TerritoryID \n",
    "left join region r on te.RegionID = r.RegionID;\n",
    "    '''\n",
    ")\n",
    "\n",
    "tabel0.head(2) # 49 rows × 25 columns"
   ]
  },
  {
   "cell_type": "markdown",
   "metadata": {},
   "source": [
    "Data berikutnya merupakan data gabungan dari 5 tabel utama, yaitu tabel ```employee```, ```employeeterritories```, ```territories```, ```region```, dan ```order```."
   ]
  },
  {
   "cell_type": "code",
   "execution_count": 6,
   "metadata": {},
   "outputs": [
    {
     "data": {
      "text/html": [
       "<div>\n",
       "<style scoped>\n",
       "    .dataframe tbody tr th:only-of-type {\n",
       "        vertical-align: middle;\n",
       "    }\n",
       "\n",
       "    .dataframe tbody tr th {\n",
       "        vertical-align: top;\n",
       "    }\n",
       "\n",
       "    .dataframe thead th {\n",
       "        text-align: right;\n",
       "    }\n",
       "</style>\n",
       "<table border=\"1\" class=\"dataframe\">\n",
       "  <thead>\n",
       "    <tr style=\"text-align: right;\">\n",
       "      <th></th>\n",
       "      <th>EmployeeID</th>\n",
       "      <th>FirstName</th>\n",
       "      <th>LastName</th>\n",
       "      <th>Title</th>\n",
       "      <th>TitleOfCourtesy</th>\n",
       "      <th>BirthDate</th>\n",
       "      <th>HireDate</th>\n",
       "      <th>Address</th>\n",
       "      <th>City</th>\n",
       "      <th>Region</th>\n",
       "      <th>...</th>\n",
       "      <th>ShipRegion</th>\n",
       "      <th>ShipPostalCode</th>\n",
       "      <th>ShipCountry</th>\n",
       "      <th>EmployeeID</th>\n",
       "      <th>TerritoryID</th>\n",
       "      <th>TerritoryID</th>\n",
       "      <th>TerritoryDescription</th>\n",
       "      <th>RegionID</th>\n",
       "      <th>RegionID</th>\n",
       "      <th>RegionDescription</th>\n",
       "    </tr>\n",
       "  </thead>\n",
       "  <tbody>\n",
       "    <tr>\n",
       "      <th>0</th>\n",
       "      <td>1</td>\n",
       "      <td>Nancy</td>\n",
       "      <td>Davolio</td>\n",
       "      <td>Sales Representative</td>\n",
       "      <td>Ms.</td>\n",
       "      <td>1948-12-08</td>\n",
       "      <td>1992-05-01</td>\n",
       "      <td>507 - 20th Ave. E.Apt. 2A</td>\n",
       "      <td>Seattle</td>\n",
       "      <td>WA</td>\n",
       "      <td>...</td>\n",
       "      <td>None</td>\n",
       "      <td>8010</td>\n",
       "      <td>Austria</td>\n",
       "      <td>1</td>\n",
       "      <td>06897</td>\n",
       "      <td>06897</td>\n",
       "      <td>Wilton                                        ...</td>\n",
       "      <td>1</td>\n",
       "      <td>1</td>\n",
       "      <td>Eastern                                       ...</td>\n",
       "    </tr>\n",
       "    <tr>\n",
       "      <th>1</th>\n",
       "      <td>1</td>\n",
       "      <td>Nancy</td>\n",
       "      <td>Davolio</td>\n",
       "      <td>Sales Representative</td>\n",
       "      <td>Ms.</td>\n",
       "      <td>1948-12-08</td>\n",
       "      <td>1992-05-01</td>\n",
       "      <td>507 - 20th Ave. E.Apt. 2A</td>\n",
       "      <td>Seattle</td>\n",
       "      <td>WA</td>\n",
       "      <td>...</td>\n",
       "      <td>None</td>\n",
       "      <td>8010</td>\n",
       "      <td>Austria</td>\n",
       "      <td>1</td>\n",
       "      <td>19713</td>\n",
       "      <td>19713</td>\n",
       "      <td>Neward                                        ...</td>\n",
       "      <td>1</td>\n",
       "      <td>1</td>\n",
       "      <td>Eastern                                       ...</td>\n",
       "    </tr>\n",
       "  </tbody>\n",
       "</table>\n",
       "<p>2 rows × 39 columns</p>\n",
       "</div>"
      ],
      "text/plain": [
       "  EmployeeID FirstName LastName                 Title TitleOfCourtesy  \\\n",
       "0          1     Nancy  Davolio  Sales Representative             Ms.   \n",
       "1          1     Nancy  Davolio  Sales Representative             Ms.   \n",
       "\n",
       "   BirthDate   HireDate                    Address     City Region  ...  \\\n",
       "0 1948-12-08 1992-05-01  507 - 20th Ave. E.Apt. 2A  Seattle     WA  ...   \n",
       "1 1948-12-08 1992-05-01  507 - 20th Ave. E.Apt. 2A  Seattle     WA  ...   \n",
       "\n",
       "  ShipRegion ShipPostalCode ShipCountry EmployeeID  TerritoryID  TerritoryID  \\\n",
       "0       None           8010     Austria          1        06897        06897   \n",
       "1       None           8010     Austria          1        19713        19713   \n",
       "\n",
       "                                TerritoryDescription  RegionID  RegionID  \\\n",
       "0  Wilton                                        ...         1         1   \n",
       "1  Neward                                        ...         1         1   \n",
       "\n",
       "                                   RegionDescription  \n",
       "0  Eastern                                       ...  \n",
       "1  Eastern                                       ...  \n",
       "\n",
       "[2 rows x 39 columns]"
      ]
     },
     "execution_count": 6,
     "metadata": {},
     "output_type": "execute_result"
    }
   ],
   "source": [
    "# Query table 01\n",
    "\n",
    "tabel1 = sql_table (\n",
    "    '''\n",
    "select e.EmployeeID, e.FirstName, e.LastName, e.Title, e.TitleOfCourtesy, e.BirthDate, e.HireDate, e.Address, e.City, e.Region, e.PostalCode, e.Country, e.HomePhone, e.Extension, e.Notes, e.ReportsTo, e.PhotoPath, e.Salary,\n",
    "o.OrderID, o.CustomerID, o.EmployeeID, o.OrderDate, o.RequiredDate, o.ShippedDate, o.ShipVia, o.Freight, o.ShipName, o.ShipAddress, o.ShipCity, o.ShipRegion, o.ShipPostalCode, o.ShipCountry,\n",
    "et.EmployeeID, et.TerritoryID,\n",
    "te.TerritoryID, te.TerritoryDescription, te.RegionID,\n",
    "r.RegionID, r.RegionDescription\n",
    "from employees e\n",
    "left join orders o on e.EmployeeID = o.EmployeeID\n",
    "left join employeeterritories et on e.EmployeeID = et.EmployeeID\n",
    "left join territories te on et.TerritoryID = te.TerritoryID \n",
    "left join region r on te.RegionID = r.RegionID;\n",
    "    '''\n",
    ")\n",
    "\n",
    "tabel1.head(2) # 3.960 rows × 39 columns"
   ]
  },
  {
   "cell_type": "markdown",
   "metadata": {},
   "source": [
    "Kemudian terdapat data kedua yang dapat digunakan dalam proses analisa lanjutan dari data sebelumnya. Data dibawah merupakan gabungan dari 4 tabel, yaitu tabel ```order```, ```orderdetails```, ```products```, dan ```categories```."
   ]
  },
  {
   "cell_type": "code",
   "execution_count": 7,
   "metadata": {},
   "outputs": [
    {
     "data": {
      "text/html": [
       "<div>\n",
       "<style scoped>\n",
       "    .dataframe tbody tr th:only-of-type {\n",
       "        vertical-align: middle;\n",
       "    }\n",
       "\n",
       "    .dataframe tbody tr th {\n",
       "        vertical-align: top;\n",
       "    }\n",
       "\n",
       "    .dataframe thead th {\n",
       "        text-align: right;\n",
       "    }\n",
       "</style>\n",
       "<table border=\"1\" class=\"dataframe\">\n",
       "  <thead>\n",
       "    <tr style=\"text-align: right;\">\n",
       "      <th></th>\n",
       "      <th>OrderID</th>\n",
       "      <th>ProductID</th>\n",
       "      <th>UnitPrice</th>\n",
       "      <th>Quantity</th>\n",
       "      <th>Discount</th>\n",
       "      <th>OrderID</th>\n",
       "      <th>CustomerID</th>\n",
       "      <th>EmployeeID</th>\n",
       "      <th>OrderDate</th>\n",
       "      <th>RequiredDate</th>\n",
       "      <th>...</th>\n",
       "      <th>UnitPrice</th>\n",
       "      <th>UnitsInStock</th>\n",
       "      <th>UnitsOnOrder</th>\n",
       "      <th>ReorderLevel</th>\n",
       "      <th>Discontinued</th>\n",
       "      <th>CategoryID</th>\n",
       "      <th>CategoryName</th>\n",
       "      <th>Description</th>\n",
       "      <th>profitEach</th>\n",
       "      <th>restStock</th>\n",
       "    </tr>\n",
       "  </thead>\n",
       "  <tbody>\n",
       "    <tr>\n",
       "      <th>0</th>\n",
       "      <td>10248</td>\n",
       "      <td>11</td>\n",
       "      <td>14.0000</td>\n",
       "      <td>12</td>\n",
       "      <td>0.0</td>\n",
       "      <td>10248</td>\n",
       "      <td>VINET</td>\n",
       "      <td>5</td>\n",
       "      <td>1996-07-04</td>\n",
       "      <td>1996-08-01</td>\n",
       "      <td>...</td>\n",
       "      <td>21.0000</td>\n",
       "      <td>22</td>\n",
       "      <td>30</td>\n",
       "      <td>30</td>\n",
       "      <td>0</td>\n",
       "      <td>4</td>\n",
       "      <td>Dairy Products</td>\n",
       "      <td>Cheeses</td>\n",
       "      <td>-7.0</td>\n",
       "      <td>40</td>\n",
       "    </tr>\n",
       "    <tr>\n",
       "      <th>1</th>\n",
       "      <td>10248</td>\n",
       "      <td>42</td>\n",
       "      <td>9.8000</td>\n",
       "      <td>10</td>\n",
       "      <td>0.0</td>\n",
       "      <td>10248</td>\n",
       "      <td>VINET</td>\n",
       "      <td>5</td>\n",
       "      <td>1996-07-04</td>\n",
       "      <td>1996-08-01</td>\n",
       "      <td>...</td>\n",
       "      <td>14.0000</td>\n",
       "      <td>26</td>\n",
       "      <td>0</td>\n",
       "      <td>0</td>\n",
       "      <td>1</td>\n",
       "      <td>5</td>\n",
       "      <td>Grains/Cereals</td>\n",
       "      <td>Breads, crackers, pasta, and cereal</td>\n",
       "      <td>-4.2</td>\n",
       "      <td>16</td>\n",
       "    </tr>\n",
       "  </tbody>\n",
       "</table>\n",
       "<p>2 rows × 34 columns</p>\n",
       "</div>"
      ],
      "text/plain": [
       "   OrderID  ProductID UnitPrice  Quantity  Discount  OrderID CustomerID  \\\n",
       "0    10248         11   14.0000        12       0.0    10248      VINET   \n",
       "1    10248         42    9.8000        10       0.0    10248      VINET   \n",
       "\n",
       "   EmployeeID  OrderDate RequiredDate  ... UnitPrice  UnitsInStock  \\\n",
       "0           5 1996-07-04   1996-08-01  ...   21.0000            22   \n",
       "1           5 1996-07-04   1996-08-01  ...   14.0000            26   \n",
       "\n",
       "  UnitsOnOrder ReorderLevel Discontinued CategoryID    CategoryName  \\\n",
       "0           30           30            0          4  Dairy Products   \n",
       "1            0            0            1          5  Grains/Cereals   \n",
       "\n",
       "                           Description profitEach  restStock  \n",
       "0                              Cheeses       -7.0         40  \n",
       "1  Breads, crackers, pasta, and cereal       -4.2         16  \n",
       "\n",
       "[2 rows x 34 columns]"
      ]
     },
     "execution_count": 7,
     "metadata": {},
     "output_type": "execute_result"
    }
   ],
   "source": [
    "# Query table 02\n",
    "\n",
    "tabel2 = sql_table (\n",
    "    '''\n",
    "select od.OrderID, od.ProductID, od.UnitPrice, od.Quantity, od.Discount,\n",
    "o.OrderID, o.CustomerID, o.EmployeeID, o.OrderDate, o.RequiredDate, o.ShippedDate, o.ShipVia, o.Freight, o.ShipName, o.ShipAddress, o.ShipCity, o.ShipRegion, o.ShipPostalCode, o.ShipCountry,\n",
    "p.ProductID, p.ProductName, p.SupplierID, p.CategoryID, p.QuantityPerUnit, p.UnitPrice, p.UnitsInStock, p.UnitsOnOrder, p.ReorderLevel, p.Discontinued,\n",
    "c.CategoryID, c.CategoryName, c.Description,\n",
    "round ((od.UnitPrice - p.UnitPrice),1) profitEach,((p.UnitsInStock + p.UnitsOnOrder) - od.Quantity) restStock\n",
    "from orderdetails od\n",
    "left join orders o on od.OrderID = o.orderID\n",
    "left join products p on od.ProductID = p.ProductID\n",
    "left join categories c on p.CategoryID = c.CategoryID;\n",
    "    '''\n",
    ")\n",
    "\n",
    "tabel2.head(2) # 2.155 rows × 34 columns"
   ]
  },
  {
   "cell_type": "markdown",
   "metadata": {},
   "source": [
    "Selain dari kolom pada tabel-tabel diatas, terdapat kolom tambahan yang diberinama ```profitEach``` yang merupakan selisih antara UnitPrice milik orderdetails (harga jual) dan UnitPrice milik products (Harga Beli); juga terdapat kolom yang bernama ```restStock``` yang merupakan hasil pengurangan antara UnitsInStock dan UnitsOnOrder.  "
   ]
  },
  {
   "cell_type": "code",
   "execution_count": 8,
   "metadata": {},
   "outputs": [],
   "source": [
    "# Export data\n",
    "\n",
    "# tabel0.to_excel('tabel0.xlsx', index=False)\n",
    "# tabel1.to_excel('tabel1.xlsx', index=False)\n",
    "# tabel2.to_excel('tabel2.xlsx', index=False)"
   ]
  },
  {
   "cell_type": "markdown",
   "metadata": {},
   "source": [
    "## **Data Title, Jumlah, dan Sebaran Wilayah Employee**\n",
    "Data selanjutnya merupakan gambaran tentang data Employee. Data ini memuat informasi mengenai title employee, mulai dari jumlah title yang ada hinga jumlah karyawannya. Kemudian disusul dengan informasi umur employee, serta sebaran country dari employee perusahaan Northwind.\n"
   ]
  },
  {
   "cell_type": "code",
   "execution_count": 9,
   "metadata": {},
   "outputs": [],
   "source": [
    "# Check columns\n",
    "\n",
    "# tabel0.columns\n",
    "# tabel1.columns\n",
    "# tabel2.columns"
   ]
  },
  {
   "cell_type": "code",
   "execution_count": 10,
   "metadata": {},
   "outputs": [
    {
     "data": {
      "text/html": [
       "<div>\n",
       "<style scoped>\n",
       "    .dataframe tbody tr th:only-of-type {\n",
       "        vertical-align: middle;\n",
       "    }\n",
       "\n",
       "    .dataframe tbody tr th {\n",
       "        vertical-align: top;\n",
       "    }\n",
       "\n",
       "    .dataframe thead th {\n",
       "        text-align: right;\n",
       "    }\n",
       "</style>\n",
       "<table border=\"1\" class=\"dataframe\">\n",
       "  <thead>\n",
       "    <tr style=\"text-align: right;\">\n",
       "      <th></th>\n",
       "      <th>Title</th>\n",
       "      <th>Total_Karyawan</th>\n",
       "    </tr>\n",
       "  </thead>\n",
       "  <tbody>\n",
       "    <tr>\n",
       "      <th>0</th>\n",
       "      <td>Sales Representative</td>\n",
       "      <td>6</td>\n",
       "    </tr>\n",
       "    <tr>\n",
       "      <th>1</th>\n",
       "      <td>Vice President, Sales</td>\n",
       "      <td>1</td>\n",
       "    </tr>\n",
       "    <tr>\n",
       "      <th>2</th>\n",
       "      <td>Sales Manager</td>\n",
       "      <td>1</td>\n",
       "    </tr>\n",
       "    <tr>\n",
       "      <th>3</th>\n",
       "      <td>Inside Sales Coordinator</td>\n",
       "      <td>1</td>\n",
       "    </tr>\n",
       "  </tbody>\n",
       "</table>\n",
       "</div>"
      ],
      "text/plain": [
       "                      Title  Total_Karyawan\n",
       "0      Sales Representative               6\n",
       "1     Vice President, Sales               1\n",
       "2             Sales Manager               1\n",
       "3  Inside Sales Coordinator               1"
      ]
     },
     "execution_count": 10,
     "metadata": {},
     "output_type": "execute_result"
    }
   ],
   "source": [
    "# Query 3 (Aggregating)\n",
    "table3 = sql_table(\n",
    "    '''\n",
    "    SELECT title as Title, \n",
    "    COUNT(title) as Total_Karyawan\n",
    "    FROM employees\n",
    "    GROUP BY title\n",
    "    ORDER BY Total_Karyawan DESC\n",
    "    ;\n",
    "    '''\n",
    ")\n",
    "table3.head()"
   ]
  },
  {
   "cell_type": "code",
   "execution_count": 11,
   "metadata": {},
   "outputs": [
    {
     "data": {
      "text/html": [
       "<div>\n",
       "<style scoped>\n",
       "    .dataframe tbody tr th:only-of-type {\n",
       "        vertical-align: middle;\n",
       "    }\n",
       "\n",
       "    .dataframe tbody tr th {\n",
       "        vertical-align: top;\n",
       "    }\n",
       "\n",
       "    .dataframe thead th {\n",
       "        text-align: right;\n",
       "    }\n",
       "</style>\n",
       "<table border=\"1\" class=\"dataframe\">\n",
       "  <thead>\n",
       "    <tr style=\"text-align: right;\">\n",
       "      <th></th>\n",
       "      <th>Title</th>\n",
       "      <th>Total</th>\n",
       "      <th>JumlahKaryawan</th>\n",
       "    </tr>\n",
       "  </thead>\n",
       "  <tbody>\n",
       "    <tr>\n",
       "      <th>0</th>\n",
       "      <td>Vice President, Sales</td>\n",
       "      <td>1</td>\n",
       "      <td>2</td>\n",
       "    </tr>\n",
       "    <tr>\n",
       "      <th>1</th>\n",
       "      <td>Sales Manager</td>\n",
       "      <td>1</td>\n",
       "      <td>5</td>\n",
       "    </tr>\n",
       "    <tr>\n",
       "      <th>2</th>\n",
       "      <td>Inside Sales Coordinator</td>\n",
       "      <td>1</td>\n",
       "      <td>8</td>\n",
       "    </tr>\n",
       "    <tr>\n",
       "      <th>3</th>\n",
       "      <td>Sales Representative</td>\n",
       "      <td>6</td>\n",
       "      <td>30</td>\n",
       "    </tr>\n",
       "  </tbody>\n",
       "</table>\n",
       "</div>"
      ],
      "text/plain": [
       "                      Title  Total JumlahKaryawan\n",
       "0     Vice President, Sales      1              2\n",
       "1             Sales Manager      1              5\n",
       "2  Inside Sales Coordinator      1              8\n",
       "3      Sales Representative      6             30"
      ]
     },
     "execution_count": 11,
     "metadata": {},
     "output_type": "execute_result"
    }
   ],
   "source": [
    "# Query 3 (Aggregating)\n",
    "table4 = sql_table(\n",
    "    '''\n",
    "    SELECT title as Title, \n",
    "    COUNT(title) as Total,\n",
    "    SUM(EmployeeID) JumlahKaryawan\n",
    "    FROM employees\n",
    "    GROUP BY title\n",
    "    ORDER by Total\n",
    "    ;\n",
    "    '''\n",
    ")\n",
    "table4.head()"
   ]
  },
  {
   "cell_type": "code",
   "execution_count": 12,
   "metadata": {},
   "outputs": [
    {
     "data": {
      "text/html": [
       "<div>\n",
       "<style scoped>\n",
       "    .dataframe tbody tr th:only-of-type {\n",
       "        vertical-align: middle;\n",
       "    }\n",
       "\n",
       "    .dataframe tbody tr th {\n",
       "        vertical-align: top;\n",
       "    }\n",
       "\n",
       "    .dataframe thead th {\n",
       "        text-align: right;\n",
       "    }\n",
       "</style>\n",
       "<table border=\"1\" class=\"dataframe\">\n",
       "  <thead>\n",
       "    <tr style=\"text-align: right;\">\n",
       "      <th></th>\n",
       "      <th>Fullname</th>\n",
       "      <th>Title</th>\n",
       "      <th>Age</th>\n",
       "    </tr>\n",
       "  </thead>\n",
       "  <tbody>\n",
       "    <tr>\n",
       "      <th>0</th>\n",
       "      <td>Nancy Davolio</td>\n",
       "      <td>Sales Representative</td>\n",
       "      <td>73.0</td>\n",
       "    </tr>\n",
       "    <tr>\n",
       "      <th>1</th>\n",
       "      <td>Andrew Fuller</td>\n",
       "      <td>Vice President, Sales</td>\n",
       "      <td>70.0</td>\n",
       "    </tr>\n",
       "    <tr>\n",
       "      <th>2</th>\n",
       "      <td>Janet Leverling</td>\n",
       "      <td>Sales Representative</td>\n",
       "      <td>58.0</td>\n",
       "    </tr>\n",
       "    <tr>\n",
       "      <th>3</th>\n",
       "      <td>Margaret Peacock</td>\n",
       "      <td>Sales Representative</td>\n",
       "      <td>84.0</td>\n",
       "    </tr>\n",
       "    <tr>\n",
       "      <th>4</th>\n",
       "      <td>Steven Buchanan</td>\n",
       "      <td>Sales Manager</td>\n",
       "      <td>67.0</td>\n",
       "    </tr>\n",
       "    <tr>\n",
       "      <th>5</th>\n",
       "      <td>Michael Suyama</td>\n",
       "      <td>Sales Representative</td>\n",
       "      <td>58.0</td>\n",
       "    </tr>\n",
       "    <tr>\n",
       "      <th>6</th>\n",
       "      <td>Robert King</td>\n",
       "      <td>Sales Representative</td>\n",
       "      <td>61.0</td>\n",
       "    </tr>\n",
       "    <tr>\n",
       "      <th>7</th>\n",
       "      <td>Laura Callahan</td>\n",
       "      <td>Inside Sales Coordinator</td>\n",
       "      <td>64.0</td>\n",
       "    </tr>\n",
       "    <tr>\n",
       "      <th>8</th>\n",
       "      <td>Anne Dodsworth</td>\n",
       "      <td>Sales Representative</td>\n",
       "      <td>56.0</td>\n",
       "    </tr>\n",
       "  </tbody>\n",
       "</table>\n",
       "</div>"
      ],
      "text/plain": [
       "           Fullname                     Title   Age\n",
       "0     Nancy Davolio      Sales Representative  73.0\n",
       "1     Andrew Fuller     Vice President, Sales  70.0\n",
       "2   Janet Leverling      Sales Representative  58.0\n",
       "3  Margaret Peacock      Sales Representative  84.0\n",
       "4   Steven Buchanan             Sales Manager  67.0\n",
       "5    Michael Suyama      Sales Representative  58.0\n",
       "6       Robert King      Sales Representative  61.0\n",
       "7    Laura Callahan  Inside Sales Coordinator  64.0\n",
       "8    Anne Dodsworth      Sales Representative  56.0"
      ]
     },
     "execution_count": 12,
     "metadata": {},
     "output_type": "execute_result"
    }
   ],
   "source": [
    "# Query 4 (Aggregating)\n",
    "table4 =sql_table(\n",
    "    '''\n",
    "    SELECT CONCAT(firstname, ' ' , lastname) as Fullname, \n",
    "    title as Title, \n",
    "    DATE_FORMAT(FROM_DAYS(DATEDIFF(now(),birthdate)), '%Y')+0 AS Age\n",
    "    FROM employees\n",
    "    '''\n",
    ")\n",
    "table4"
   ]
  },
  {
   "cell_type": "code",
   "execution_count": 13,
   "metadata": {},
   "outputs": [
    {
     "data": {
      "text/html": [
       "<div>\n",
       "<style scoped>\n",
       "    .dataframe tbody tr th:only-of-type {\n",
       "        vertical-align: middle;\n",
       "    }\n",
       "\n",
       "    .dataframe tbody tr th {\n",
       "        vertical-align: top;\n",
       "    }\n",
       "\n",
       "    .dataframe thead th {\n",
       "        text-align: right;\n",
       "    }\n",
       "</style>\n",
       "<table border=\"1\" class=\"dataframe\">\n",
       "  <thead>\n",
       "    <tr style=\"text-align: right;\">\n",
       "      <th></th>\n",
       "      <th>Country</th>\n",
       "      <th>TotalKaryawan</th>\n",
       "    </tr>\n",
       "  </thead>\n",
       "  <tbody>\n",
       "    <tr>\n",
       "      <th>0</th>\n",
       "      <td>USA</td>\n",
       "      <td>5</td>\n",
       "    </tr>\n",
       "    <tr>\n",
       "      <th>1</th>\n",
       "      <td>UK</td>\n",
       "      <td>4</td>\n",
       "    </tr>\n",
       "  </tbody>\n",
       "</table>\n",
       "</div>"
      ],
      "text/plain": [
       "  Country  TotalKaryawan\n",
       "0     USA              5\n",
       "1      UK              4"
      ]
     },
     "execution_count": 13,
     "metadata": {},
     "output_type": "execute_result"
    }
   ],
   "source": [
    "# Query 5 (Aggregating)\n",
    "table5 = sql_table(\n",
    "    '''\n",
    "    SELECT country as Country, COUNT(country) as TotalKaryawan \n",
    "    FROM employees\n",
    "    GROUP BY country;\n",
    "    '''\n",
    ")\n",
    "table5.head()"
   ]
  },
  {
   "cell_type": "markdown",
   "metadata": {},
   "source": [
    "## **Data Jenis Produk, Kuantitas, dan Total Harga Beli**\n",
    "Data berikutnya merupakan informasi yang dapat menjadi data tambahan untuk melihat gambaran tentang data yang dimiliki. Data ini memuat jenis kategori produk yang dijual mulai dari confections hingga produce, lengkap dengan deskripsi, banyak kategori produk, jumlah unit stock, jumlah unit yang disorder, hingga harga belinya. Dari sini kita bisa melihat gambaran apakah kuantitas akan memberikan pengaruh terhadap harga beli. Dari data ini juga bisa dilihat keadaan stock barang, serta bagaimana gambaran jika suatu saat ingin menambah, entah itu jenis kategori produk ataupun kuantitas dengan mempertimbangkan harganya.\n"
   ]
  },
  {
   "cell_type": "code",
   "execution_count": 14,
   "metadata": {},
   "outputs": [
    {
     "data": {
      "text/html": [
       "<div>\n",
       "<style scoped>\n",
       "    .dataframe tbody tr th:only-of-type {\n",
       "        vertical-align: middle;\n",
       "    }\n",
       "\n",
       "    .dataframe tbody tr th {\n",
       "        vertical-align: top;\n",
       "    }\n",
       "\n",
       "    .dataframe thead th {\n",
       "        text-align: right;\n",
       "    }\n",
       "</style>\n",
       "<table border=\"1\" class=\"dataframe\">\n",
       "  <thead>\n",
       "    <tr style=\"text-align: right;\">\n",
       "      <th></th>\n",
       "      <th>CategoryID</th>\n",
       "      <th>CategoryName</th>\n",
       "      <th>Description</th>\n",
       "      <th>BanyakKategoriProduk</th>\n",
       "      <th>JumlahUnitStock</th>\n",
       "      <th>JumlahUnitOrder</th>\n",
       "      <th>JumlahHargaBeli</th>\n",
       "    </tr>\n",
       "  </thead>\n",
       "  <tbody>\n",
       "    <tr>\n",
       "      <th>0</th>\n",
       "      <td>3</td>\n",
       "      <td>Confections</td>\n",
       "      <td>Desserts, candies, and sweet breads</td>\n",
       "      <td>13</td>\n",
       "      <td>386</td>\n",
       "      <td>180</td>\n",
       "      <td>327.0800</td>\n",
       "    </tr>\n",
       "    <tr>\n",
       "      <th>1</th>\n",
       "      <td>1</td>\n",
       "      <td>Beverages</td>\n",
       "      <td>Soft drinks, coffees, teas, beers, and ales</td>\n",
       "      <td>12</td>\n",
       "      <td>559</td>\n",
       "      <td>60</td>\n",
       "      <td>455.7500</td>\n",
       "    </tr>\n",
       "    <tr>\n",
       "      <th>2</th>\n",
       "      <td>2</td>\n",
       "      <td>Condiments</td>\n",
       "      <td>Sweet and savory sauces, relishes, spreads, an...</td>\n",
       "      <td>12</td>\n",
       "      <td>507</td>\n",
       "      <td>170</td>\n",
       "      <td>276.7500</td>\n",
       "    </tr>\n",
       "    <tr>\n",
       "      <th>3</th>\n",
       "      <td>8</td>\n",
       "      <td>Seafood</td>\n",
       "      <td>Seaweed and fish</td>\n",
       "      <td>12</td>\n",
       "      <td>701</td>\n",
       "      <td>120</td>\n",
       "      <td>248.1900</td>\n",
       "    </tr>\n",
       "    <tr>\n",
       "      <th>4</th>\n",
       "      <td>4</td>\n",
       "      <td>Dairy Products</td>\n",
       "      <td>Cheeses</td>\n",
       "      <td>10</td>\n",
       "      <td>393</td>\n",
       "      <td>140</td>\n",
       "      <td>287.3000</td>\n",
       "    </tr>\n",
       "    <tr>\n",
       "      <th>5</th>\n",
       "      <td>5</td>\n",
       "      <td>Grains/Cereals</td>\n",
       "      <td>Breads, crackers, pasta, and cereal</td>\n",
       "      <td>7</td>\n",
       "      <td>308</td>\n",
       "      <td>90</td>\n",
       "      <td>141.7500</td>\n",
       "    </tr>\n",
       "    <tr>\n",
       "      <th>6</th>\n",
       "      <td>6</td>\n",
       "      <td>Meat/Poultry</td>\n",
       "      <td>Prepared meats</td>\n",
       "      <td>6</td>\n",
       "      <td>165</td>\n",
       "      <td>0</td>\n",
       "      <td>324.0400</td>\n",
       "    </tr>\n",
       "    <tr>\n",
       "      <th>7</th>\n",
       "      <td>7</td>\n",
       "      <td>Produce</td>\n",
       "      <td>Dried fruit and bean curd</td>\n",
       "      <td>5</td>\n",
       "      <td>100</td>\n",
       "      <td>20</td>\n",
       "      <td>161.8500</td>\n",
       "    </tr>\n",
       "  </tbody>\n",
       "</table>\n",
       "</div>"
      ],
      "text/plain": [
       "   CategoryID    CategoryName  \\\n",
       "0           3     Confections   \n",
       "1           1       Beverages   \n",
       "2           2      Condiments   \n",
       "3           8         Seafood   \n",
       "4           4  Dairy Products   \n",
       "5           5  Grains/Cereals   \n",
       "6           6    Meat/Poultry   \n",
       "7           7         Produce   \n",
       "\n",
       "                                         Description  BanyakKategoriProduk  \\\n",
       "0                Desserts, candies, and sweet breads                    13   \n",
       "1        Soft drinks, coffees, teas, beers, and ales                    12   \n",
       "2  Sweet and savory sauces, relishes, spreads, an...                    12   \n",
       "3                                   Seaweed and fish                    12   \n",
       "4                                            Cheeses                    10   \n",
       "5                Breads, crackers, pasta, and cereal                     7   \n",
       "6                                     Prepared meats                     6   \n",
       "7                          Dried fruit and bean curd                     5   \n",
       "\n",
       "  JumlahUnitStock JumlahUnitOrder JumlahHargaBeli  \n",
       "0             386             180        327.0800  \n",
       "1             559              60        455.7500  \n",
       "2             507             170        276.7500  \n",
       "3             701             120        248.1900  \n",
       "4             393             140        287.3000  \n",
       "5             308              90        141.7500  \n",
       "6             165               0        324.0400  \n",
       "7             100              20        161.8500  "
      ]
     },
     "execution_count": 14,
     "metadata": {},
     "output_type": "execute_result"
    }
   ],
   "source": [
    "# Query 6 (Aggregating)\n",
    "\n",
    "tabel6 = sql_table(\n",
    "    '''\n",
    "select \n",
    "\tp.CategoryID,\n",
    "    c.CategoryName, c.Description,\n",
    "    count(CategoryName) as BanyakKategoriProduk,\n",
    "    sum(UnitsInStock) as JumlahUnitStock, sum(UnitsOnOrder) as JumlahUnitOrder,sum(UnitPrice) as JumlahHargaBeli\n",
    "from products p\n",
    "left join categories c on p.CategoryID = c.CategoryID\n",
    "group by CategoryID\n",
    "order by BanyakKategoriProduk DESC\n",
    ";\n",
    "    '''\n",
    ")\n",
    "\n",
    "tabel6"
   ]
  },
  {
   "cell_type": "markdown",
   "metadata": {},
   "source": [
    "# **DATA MANIPULATION**"
   ]
  },
  {
   "cell_type": "markdown",
   "metadata": {},
   "source": [
    "Seperti yang telah dijelaskan sebelumnya, data yang digunakan adalah data yang memuat banyak informasi mengenai Employee (```tabel1```), sebab data tersebut akan menjadi fokus utama analisis pada project ini. Sebelum melakukan analisis lebih lanjut, hal yang harus dilakukan adalah mengecek informasi serta anomali pada data. Jika memang terdapat hal-hal yang dianggap 'kotor' pada data, maka yang perlu dilakukan adalah melakukan penanganan pada bagian tersebut. Pada bagian ini, data akan 'dibersihkan', sehingga output akhir yang diharapkan adalah terdapat sebuah dataset yang bersih yang dapat dianalisis lebih lanjut dengan menampilkan visualisasi, serta melihat statistics-nya."
   ]
  },
  {
   "cell_type": "code",
   "execution_count": 15,
   "metadata": {},
   "outputs": [
    {
     "data": {
      "text/html": [
       "<div>\n",
       "<style scoped>\n",
       "    .dataframe tbody tr th:only-of-type {\n",
       "        vertical-align: middle;\n",
       "    }\n",
       "\n",
       "    .dataframe tbody tr th {\n",
       "        vertical-align: top;\n",
       "    }\n",
       "\n",
       "    .dataframe thead th {\n",
       "        text-align: right;\n",
       "    }\n",
       "</style>\n",
       "<table border=\"1\" class=\"dataframe\">\n",
       "  <thead>\n",
       "    <tr style=\"text-align: right;\">\n",
       "      <th></th>\n",
       "      <th>EmployeeID</th>\n",
       "      <th>FirstName</th>\n",
       "      <th>LastName</th>\n",
       "      <th>Title</th>\n",
       "      <th>TitleOfCourtesy</th>\n",
       "      <th>BirthDate</th>\n",
       "      <th>HireDate</th>\n",
       "      <th>Address</th>\n",
       "      <th>City</th>\n",
       "      <th>Region</th>\n",
       "      <th>...</th>\n",
       "      <th>ShipRegion</th>\n",
       "      <th>ShipPostalCode</th>\n",
       "      <th>ShipCountry</th>\n",
       "      <th>EmployeeID</th>\n",
       "      <th>TerritoryID</th>\n",
       "      <th>TerritoryID</th>\n",
       "      <th>TerritoryDescription</th>\n",
       "      <th>RegionID</th>\n",
       "      <th>RegionID</th>\n",
       "      <th>RegionDescription</th>\n",
       "    </tr>\n",
       "  </thead>\n",
       "  <tbody>\n",
       "    <tr>\n",
       "      <th>0</th>\n",
       "      <td>1</td>\n",
       "      <td>Nancy</td>\n",
       "      <td>Davolio</td>\n",
       "      <td>Sales Representative</td>\n",
       "      <td>Ms.</td>\n",
       "      <td>1948-12-08</td>\n",
       "      <td>1992-05-01</td>\n",
       "      <td>507 - 20th Ave. E.Apt. 2A</td>\n",
       "      <td>Seattle</td>\n",
       "      <td>WA</td>\n",
       "      <td>...</td>\n",
       "      <td>None</td>\n",
       "      <td>8010</td>\n",
       "      <td>Austria</td>\n",
       "      <td>1</td>\n",
       "      <td>06897</td>\n",
       "      <td>06897</td>\n",
       "      <td>Wilton                                        ...</td>\n",
       "      <td>1</td>\n",
       "      <td>1</td>\n",
       "      <td>Eastern                                       ...</td>\n",
       "    </tr>\n",
       "  </tbody>\n",
       "</table>\n",
       "<p>1 rows × 39 columns</p>\n",
       "</div>"
      ],
      "text/plain": [
       "  EmployeeID FirstName LastName                 Title TitleOfCourtesy  \\\n",
       "0          1     Nancy  Davolio  Sales Representative             Ms.   \n",
       "\n",
       "   BirthDate   HireDate                    Address     City Region  ...  \\\n",
       "0 1948-12-08 1992-05-01  507 - 20th Ave. E.Apt. 2A  Seattle     WA  ...   \n",
       "\n",
       "  ShipRegion ShipPostalCode ShipCountry EmployeeID  TerritoryID  TerritoryID  \\\n",
       "0       None           8010     Austria          1        06897        06897   \n",
       "\n",
       "                                TerritoryDescription  RegionID  RegionID  \\\n",
       "0  Wilton                                        ...         1         1   \n",
       "\n",
       "                                   RegionDescription  \n",
       "0  Eastern                                       ...  \n",
       "\n",
       "[1 rows x 39 columns]"
      ]
     },
     "metadata": {},
     "output_type": "display_data"
    },
    {
     "data": {
      "text/plain": [
       "Index(['EmployeeID', 'FirstName', 'LastName', 'Title', 'TitleOfCourtesy',\n",
       "       'BirthDate', 'HireDate', 'Address', 'City', 'Region', 'PostalCode',\n",
       "       'Country', 'HomePhone', 'Extension', 'Notes', 'ReportsTo', 'PhotoPath',\n",
       "       'Salary', 'OrderID', 'CustomerID', 'EmployeeID', 'OrderDate',\n",
       "       'RequiredDate', 'ShippedDate', 'ShipVia', 'Freight', 'ShipName',\n",
       "       'ShipAddress', 'ShipCity', 'ShipRegion', 'ShipPostalCode',\n",
       "       'ShipCountry', 'EmployeeID', 'TerritoryID', 'TerritoryID',\n",
       "       'TerritoryDescription', 'RegionID', 'RegionID', 'RegionDescription'],\n",
       "      dtype='object')"
      ]
     },
     "metadata": {},
     "output_type": "display_data"
    }
   ],
   "source": [
    "display(tabel1.head(1)) # 3.960 rows × 39 columns\n",
    "display(tabel1.columns)"
   ]
  },
  {
   "cell_type": "markdown",
   "metadata": {},
   "source": [
    "## **Data Anomalies**"
   ]
  },
  {
   "cell_type": "code",
   "execution_count": 16,
   "metadata": {},
   "outputs": [
    {
     "name": "stdout",
     "output_type": "stream",
     "text": [
      "<class 'pandas.core.frame.DataFrame'>\n",
      "RangeIndex: 3960 entries, 0 to 3959\n",
      "Data columns (total 39 columns):\n",
      " #   Column                Non-Null Count  Dtype         \n",
      "---  ------                --------------  -----         \n",
      " 0   EmployeeID            3960 non-null   int64         \n",
      " 1   FirstName             3960 non-null   object        \n",
      " 2   LastName              3960 non-null   object        \n",
      " 3   Title                 3960 non-null   object        \n",
      " 4   TitleOfCourtesy       3960 non-null   object        \n",
      " 5   BirthDate             3960 non-null   datetime64[ns]\n",
      " 6   HireDate              3960 non-null   datetime64[ns]\n",
      " 7   Address               3960 non-null   object        \n",
      " 8   City                  3960 non-null   object        \n",
      " 9   Region                2310 non-null   object        \n",
      " 10  PostalCode            3960 non-null   object        \n",
      " 11  Country               3960 non-null   object        \n",
      " 12  HomePhone             3960 non-null   object        \n",
      " 13  Extension             3960 non-null   object        \n",
      " 14  Notes                 3960 non-null   object        \n",
      " 15  ReportsTo             3288 non-null   float64       \n",
      " 16  PhotoPath             3960 non-null   object        \n",
      " 17  Salary                3960 non-null   float64       \n",
      " 18  OrderID               3960 non-null   int64         \n",
      " 19  CustomerID            3960 non-null   object        \n",
      " 20  EmployeeID            3960 non-null   int64         \n",
      " 21  OrderDate             3960 non-null   datetime64[ns]\n",
      " 22  RequiredDate          3960 non-null   datetime64[ns]\n",
      " 23  ShippedDate           3855 non-null   datetime64[ns]\n",
      " 24  ShipVia               3960 non-null   int64         \n",
      " 25  Freight               3960 non-null   object        \n",
      " 26  ShipName              3960 non-null   object        \n",
      " 27  ShipAddress           3960 non-null   object        \n",
      " 28  ShipCity              3960 non-null   object        \n",
      " 29  ShipRegion            1471 non-null   object        \n",
      " 30  ShipPostalCode        3854 non-null   object        \n",
      " 31  ShipCountry           3960 non-null   object        \n",
      " 32  EmployeeID            3960 non-null   int64         \n",
      " 33  TerritoryID           3960 non-null   object        \n",
      " 34  TerritoryID           3960 non-null   object        \n",
      " 35  TerritoryDescription  3960 non-null   object        \n",
      " 36  RegionID              3960 non-null   int64         \n",
      " 37  RegionID              3960 non-null   int64         \n",
      " 38  RegionDescription     3960 non-null   object        \n",
      "dtypes: datetime64[ns](5), float64(2), int64(7), object(25)\n",
      "memory usage: 1.2+ MB\n"
     ]
    }
   ],
   "source": [
    "# Check info tabel1\n",
    "\n",
    "tabel1.info()"
   ]
  },
  {
   "cell_type": "markdown",
   "metadata": {},
   "source": [
    "## **Melihat Sekilas Data Dari General Info**\n",
    "\n",
    "Mari sejenak melihat apa yang ditampilkan pada general info yang disajikan di atas. Terlihat bahwa secara keseluruhan terdapat 3960 baris data dengan total 39 kolom. Setiap kolomnya memiliki tipe data yang berbeda-beda. Ada object, integer, dan float. Oke, mari sejenak mengesampingkan tipe data. Mari berforkus pada non-null values atau data yang tersedia pada setiap kolomnya. Jika melihat informasi tersebut, tidak semua kolom atau feature yang memiliki data lengkap. Yang paling terlihat jomplang adalah pada ```ShipRegion``` dan ```Region```. Kedua features tersebut kehilangan lebih dari 50% data. Selain dari itu, ada beberapa feature yang datanya juga missing, yang nantinya akan ditampilkan pada bagian berikutnya. **Kesimpulan pertama adalah bahwa terdapat *missing value* yang harus ditanggulangi.** \n",
    "<br><br>\n",
    "\n",
    "Fokus berikutnya adalah perhatikan pada features berikut ini:\n",
    "1. Salary\n",
    "1. Extension\n",
    "1. Freight \n",
    "1. TerritoryID \n",
    "\n",
    "Ada apa dengan ketiga tipe data tersebut? Mari kita cari tahu. Pada tipe data Salary, Extension, Freight, dan juga TerritoryID merupakan feature yang seharusnya memiliki tipe data numerik (dibuktikan pada preview data di bagian sebelumnya), sedangkan yang terbaca tipe data dari ketiga feature ini adalah object. Artinya, ketiga feature ini tidak dianggap memiliki komponen data yang numerik. Tentu saja hal tersebut harus ditanggulangi, mengingat ke depannya data yang bersifat numerik ini akan digunakan. Maka **kesimpulan kedua adalah terdapat features yang memiliki tipe data yang salah dan harus diubah sesuai dengan tipe data seharusnya.**"
   ]
  },
  {
   "cell_type": "code",
   "execution_count": 17,
   "metadata": {},
   "outputs": [
    {
     "data": {
      "text/plain": [
       "EmployeeID                 0\n",
       "FirstName                  0\n",
       "LastName                   0\n",
       "Title                      0\n",
       "TitleOfCourtesy            0\n",
       "BirthDate                  0\n",
       "HireDate                   0\n",
       "Address                    0\n",
       "City                       0\n",
       "Region                  1650\n",
       "PostalCode                 0\n",
       "Country                    0\n",
       "HomePhone                  0\n",
       "Extension                  0\n",
       "Notes                      0\n",
       "ReportsTo                672\n",
       "PhotoPath                  0\n",
       "Salary                     0\n",
       "OrderID                    0\n",
       "CustomerID                 0\n",
       "EmployeeID                 0\n",
       "OrderDate                  0\n",
       "RequiredDate               0\n",
       "ShippedDate              105\n",
       "ShipVia                    0\n",
       "Freight                    0\n",
       "ShipName                   0\n",
       "ShipAddress                0\n",
       "ShipCity                   0\n",
       "ShipRegion              2489\n",
       "ShipPostalCode           106\n",
       "ShipCountry                0\n",
       "EmployeeID                 0\n",
       "TerritoryID                0\n",
       "TerritoryID                0\n",
       "TerritoryDescription       0\n",
       "RegionID                   0\n",
       "RegionID                   0\n",
       "RegionDescription          0\n",
       "dtype: int64"
      ]
     },
     "execution_count": 17,
     "metadata": {},
     "output_type": "execute_result"
    }
   ],
   "source": [
    "# Check Missing Value Percentage\n",
    "\n",
    "tabel1.isnull().sum()"
   ]
  },
  {
   "cell_type": "code",
   "execution_count": 18,
   "metadata": {},
   "outputs": [
    {
     "data": {
      "text/plain": [
       "ShipRegion        2489\n",
       "Region            1650\n",
       "ReportsTo          672\n",
       "ShipPostalCode     106\n",
       "ShippedDate        105\n",
       "ShipVia              0\n",
       "Freight              0\n",
       "ShipName             0\n",
       "ShipAddress          0\n",
       "ShipCity             0\n",
       "dtype: int64"
      ]
     },
     "execution_count": 18,
     "metadata": {},
     "output_type": "execute_result"
    }
   ],
   "source": [
    "tabel1.isnull().sum().sort_values(ascending=False).head(10)"
   ]
  },
  {
   "cell_type": "markdown",
   "metadata": {},
   "source": [
    "## **Missing Values**\n",
    "\n",
    "Telah dijelaskan sebelumnya, terdapat beberapa feature yang memang memiliki missing values. Yang paling jadi sorotan adalah ShipRegion dan Region yang memiliki total missing value yang lebih dari 50%. Artinya, jika missing valuenya dihilangkan dengan melihat row atau barisnya, setengah dari data yang dimiliki akan hilang, yang berarti akan mengakibatkan hilangnya banyak informasi. Tentu saja hal tersebut tidak dibenarkan. Untuk mengatasi hal tersebut, maka kedua feature tersebut akan dihapus dan tidak akan dimasukkan ke dalam data yang akan dianalisis.\n",
    "\n",
    "Lalu, bagaimana dengan feature lainnya? Selain dari ShipRegion, beberapa feature lainnya juga memiliki missing value seperti ReportsTo sebanyak 672, ShipPostalCode sebanyak 106, dan ShippedDate sebanyak 105. Sehingga, cara untuk mengatasinya cukup dengan melakukan drop data termasuk untuk ShipPostalCode dan ShippedDate, meskipun total missing valuenya mencapai 106 dan 105 data (hal tersebut karena 106 dan 105 dari 3960 data hanya kurang lebih 2% - 3% data, sehingga tidak akan mengurangi informasi secara signifikan). Sedangkan untuk feature ReportsTo memiliki total 672 data missing value atau lebih dari 15%, maka cara untuk mengatasinya dapat dilakukan dengan melakukan imputation atau menghitung nilai penggatinya. Nilai pengganti yang digunakan untuk mengisi missing value pada feature ReportsTo adalah 2, karena diambil dari nilai modusnya (nilai yang sering banyak keluar)."
   ]
  },
  {
   "cell_type": "markdown",
   "metadata": {},
   "source": [
    "## **Handling Anomalies**"
   ]
  },
  {
   "cell_type": "markdown",
   "metadata": {},
   "source": [
    "Setelah mengetahui hal-hal yang harus 'dibereskan' terlebih dahulu, maka pada bagian ini, hal-hal tersebut harus diatasi. Pertama, masalah missing value. Sebenarnya pada bagian sebelumnya sudah diberi tahu apa saja yang harus dilakukan untuk mengatasi masalah tersebut. Bagian pertama jelas akan dilakukan drop features ShipRegion dan Region. Setelah drop kedua feature tersebut, barulah kemudian missing value dari setiap row-nya dihapus."
   ]
  },
  {
   "cell_type": "code",
   "execution_count": 19,
   "metadata": {},
   "outputs": [],
   "source": [
    "# Remove Missing Value 1\n",
    "\n",
    "tabel1.drop(['ShipRegion', 'Region'], axis=1, inplace = True)"
   ]
  },
  {
   "cell_type": "code",
   "execution_count": 20,
   "metadata": {},
   "outputs": [],
   "source": [
    "# Remove Missing Value 2\n",
    "\n",
    "tabel1.drop(['ShipPostalCode', 'ShippedDate'], axis=1, inplace = True)"
   ]
  },
  {
   "cell_type": "code",
   "execution_count": 21,
   "metadata": {},
   "outputs": [
    {
     "data": {
      "text/plain": [
       "ReportsTo       672\n",
       "EmployeeID        0\n",
       "CustomerID        0\n",
       "OrderDate         0\n",
       "RequiredDate      0\n",
       "dtype: int64"
      ]
     },
     "execution_count": 21,
     "metadata": {},
     "output_type": "execute_result"
    }
   ],
   "source": [
    "tabel1.isnull().sum().sort_values(ascending=False).head()"
   ]
  },
  {
   "cell_type": "code",
   "execution_count": 22,
   "metadata": {},
   "outputs": [
    {
     "data": {
      "text/plain": [
       "0    2.0\n",
       "dtype: float64"
      ]
     },
     "metadata": {},
     "output_type": "display_data"
    },
    {
     "name": "stdout",
     "output_type": "stream",
     "text": [
      "\n"
     ]
    },
    {
     "data": {
      "text/plain": [
       "0       2.0\n",
       "1       2.0\n",
       "2       2.0\n",
       "3       2.0\n",
       "4       2.0\n",
       "       ... \n",
       "3955    5.0\n",
       "3956    5.0\n",
       "3957    5.0\n",
       "3958    5.0\n",
       "3959    5.0\n",
       "Name: ReportsTo, Length: 3960, dtype: float64"
      ]
     },
     "metadata": {},
     "output_type": "display_data"
    }
   ],
   "source": [
    "# Fill Missing Value 3 - for ReportsTo Feature\n",
    "display(tabel1['ReportsTo'].mode())\n",
    "print('')\n",
    "display(tabel1['ReportsTo'].fillna(2))"
   ]
  },
  {
   "cell_type": "code",
   "execution_count": 23,
   "metadata": {},
   "outputs": [],
   "source": [
    "# Remove Missing Value 4\n",
    "\n",
    "tabel1.dropna(inplace = True)"
   ]
  },
  {
   "cell_type": "code",
   "execution_count": 24,
   "metadata": {},
   "outputs": [],
   "source": [
    "# Remove Missing Value 5\n",
    "\n",
    "tabel1 = tabel1.T.drop_duplicates().T"
   ]
  },
  {
   "cell_type": "code",
   "execution_count": 25,
   "metadata": {},
   "outputs": [
    {
     "data": {
      "text/plain": [
       "EmployeeID              0\n",
       "FirstName               0\n",
       "LastName                0\n",
       "Title                   0\n",
       "TitleOfCourtesy         0\n",
       "BirthDate               0\n",
       "HireDate                0\n",
       "Address                 0\n",
       "City                    0\n",
       "PostalCode              0\n",
       "Country                 0\n",
       "HomePhone               0\n",
       "Extension               0\n",
       "Notes                   0\n",
       "ReportsTo               0\n",
       "PhotoPath               0\n",
       "Salary                  0\n",
       "OrderID                 0\n",
       "CustomerID              0\n",
       "OrderDate               0\n",
       "RequiredDate            0\n",
       "ShipVia                 0\n",
       "Freight                 0\n",
       "ShipName                0\n",
       "ShipAddress             0\n",
       "ShipCity                0\n",
       "ShipCountry             0\n",
       "TerritoryID             0\n",
       "TerritoryDescription    0\n",
       "RegionID                0\n",
       "RegionDescription       0\n",
       "dtype: int64"
      ]
     },
     "execution_count": 25,
     "metadata": {},
     "output_type": "execute_result"
    }
   ],
   "source": [
    "# Recheck Info\n",
    "\n",
    "tabel1.isnull().sum()"
   ]
  },
  {
   "cell_type": "markdown",
   "metadata": {},
   "source": [
    "## **Recheck Missing Value Information**\n",
    "\n",
    "Setelah melakukan proses drop missing value, baik itu drop terhadap features maupun row, selanjutnya adalah melakukan pengecekan terhadap data yang dimiliki untuk memastikan apakah sudah tidak ada missing value lagi. Benar saja, jika melihat data pada output di atas, sudah tidak terdapat lagi missing value sama sekali, dan pada feature ```ShipRegion``` serta ```Region``` sudah tidak ada juga (karena sudah di-drop). Untuk masing-masing feature juga sudah memiliki 0 missing value yang berarti masalah missing value sudah teratasi. "
   ]
  },
  {
   "cell_type": "markdown",
   "metadata": {},
   "source": [
    "## **Mengubah Tipe Data Yang Salah**\n",
    "\n",
    "Selanjutnya adalah tahap mengubah tipe data yang salah dan mengembalikannya ke tipe data seharusnya, agar fungsionalitas dari sebuah features kembali ke hakekatnya. Tipe data numerik akan diperlakukan sebagai tipe data numerik, begitu juga dengan tipe data datetime maupun object. Tujuannya tentu saja agar features tersebut dapat dipergunakan sebagaimana mestinya."
   ]
  },
  {
   "cell_type": "code",
   "execution_count": 26,
   "metadata": {},
   "outputs": [],
   "source": [
    "tabel1['Salary'] = tabel1['Salary'].astype(int)\n",
    "tabel1['Extension'] = pd.to_numeric(tabel1['Extension'])\n",
    "tabel1['Freight'] = pd.to_numeric(tabel1['Freight'])\n",
    "tabel1['TerritoryID'] = tabel1['TerritoryID'].astype(int)"
   ]
  },
  {
   "cell_type": "code",
   "execution_count": 27,
   "metadata": {},
   "outputs": [
    {
     "name": "stdout",
     "output_type": "stream",
     "text": [
      "<class 'pandas.core.frame.DataFrame'>\n",
      "Int64Index: 3288 entries, 0 to 3959\n",
      "Data columns (total 31 columns):\n",
      " #   Column                Non-Null Count  Dtype         \n",
      "---  ------                --------------  -----         \n",
      " 0   EmployeeID            3288 non-null   object        \n",
      " 1   FirstName             3288 non-null   object        \n",
      " 2   LastName              3288 non-null   object        \n",
      " 3   Title                 3288 non-null   object        \n",
      " 4   TitleOfCourtesy       3288 non-null   object        \n",
      " 5   BirthDate             3288 non-null   datetime64[ns]\n",
      " 6   HireDate              3288 non-null   datetime64[ns]\n",
      " 7   Address               3288 non-null   object        \n",
      " 8   City                  3288 non-null   object        \n",
      " 9   PostalCode            3288 non-null   object        \n",
      " 10  Country               3288 non-null   object        \n",
      " 11  HomePhone             3288 non-null   object        \n",
      " 12  Extension             3288 non-null   int64         \n",
      " 13  Notes                 3288 non-null   object        \n",
      " 14  ReportsTo             3288 non-null   object        \n",
      " 15  PhotoPath             3288 non-null   object        \n",
      " 16  Salary                3288 non-null   int32         \n",
      " 17  OrderID               3288 non-null   object        \n",
      " 18  CustomerID            3288 non-null   object        \n",
      " 19  OrderDate             3288 non-null   datetime64[ns]\n",
      " 20  RequiredDate          3288 non-null   datetime64[ns]\n",
      " 21  ShipVia               3288 non-null   object        \n",
      " 22  Freight               3288 non-null   float64       \n",
      " 23  ShipName              3288 non-null   object        \n",
      " 24  ShipAddress           3288 non-null   object        \n",
      " 25  ShipCity              3288 non-null   object        \n",
      " 26  ShipCountry           3288 non-null   object        \n",
      " 27  TerritoryID           3288 non-null   int32         \n",
      " 28  TerritoryDescription  3288 non-null   object        \n",
      " 29  RegionID              3288 non-null   object        \n",
      " 30  RegionDescription     3288 non-null   object        \n",
      "dtypes: datetime64[ns](4), float64(1), int32(2), int64(1), object(23)\n",
      "memory usage: 925.4+ KB\n"
     ]
    }
   ],
   "source": [
    "# Recheck Info\n",
    "\n",
    "tabel1.info()"
   ]
  },
  {
   "cell_type": "markdown",
   "metadata": {},
   "source": [
    "## **Recheck Data Information**\n",
    "\n",
    "Pada bagian sebelumnya, features-features yang memiliki tipe data yang salah sudah diubah ke dalam tipe data yang seharusnya. Untuk memastikannya, output di atas merupakan informasi umum yang kembali diperlihatkan untuk memastikan tipe data yang sudah diubah tersebut. 3 features lainnya yang seharusnya bertipe data object, yaitu Extension, Freight, dan TerritoryID sudah menjadi tipe data integer. Dengan begini, perubahan yang dilakukan sebelumnya sudah terimplementasi dan anomali yang kedua sudah teratasi."
   ]
  },
  {
   "cell_type": "code",
   "execution_count": 28,
   "metadata": {},
   "outputs": [
    {
     "data": {
      "text/html": [
       "<div>\n",
       "<style scoped>\n",
       "    .dataframe tbody tr th:only-of-type {\n",
       "        vertical-align: middle;\n",
       "    }\n",
       "\n",
       "    .dataframe tbody tr th {\n",
       "        vertical-align: top;\n",
       "    }\n",
       "\n",
       "    .dataframe thead th {\n",
       "        text-align: right;\n",
       "    }\n",
       "</style>\n",
       "<table border=\"1\" class=\"dataframe\">\n",
       "  <thead>\n",
       "    <tr style=\"text-align: right;\">\n",
       "      <th></th>\n",
       "      <th>EmployeeID</th>\n",
       "      <th>FirstName</th>\n",
       "      <th>LastName</th>\n",
       "      <th>Title</th>\n",
       "      <th>TitleOfCourtesy</th>\n",
       "      <th>BirthDate</th>\n",
       "      <th>HireDate</th>\n",
       "      <th>Address</th>\n",
       "      <th>City</th>\n",
       "      <th>PostalCode</th>\n",
       "      <th>...</th>\n",
       "      <th>ShipVia</th>\n",
       "      <th>Freight</th>\n",
       "      <th>ShipName</th>\n",
       "      <th>ShipAddress</th>\n",
       "      <th>ShipCity</th>\n",
       "      <th>ShipCountry</th>\n",
       "      <th>TerritoryID</th>\n",
       "      <th>TerritoryDescription</th>\n",
       "      <th>RegionID</th>\n",
       "      <th>RegionDescription</th>\n",
       "    </tr>\n",
       "  </thead>\n",
       "  <tbody>\n",
       "  </tbody>\n",
       "</table>\n",
       "<p>0 rows × 31 columns</p>\n",
       "</div>"
      ],
      "text/plain": [
       "Empty DataFrame\n",
       "Columns: [EmployeeID, FirstName, LastName, Title, TitleOfCourtesy, BirthDate, HireDate, Address, City, PostalCode, Country, HomePhone, Extension, Notes, ReportsTo, PhotoPath, Salary, OrderID, CustomerID, OrderDate, RequiredDate, ShipVia, Freight, ShipName, ShipAddress, ShipCity, ShipCountry, TerritoryID, TerritoryDescription, RegionID, RegionDescription]\n",
       "Index: []\n",
       "\n",
       "[0 rows x 31 columns]"
      ]
     },
     "execution_count": 28,
     "metadata": {},
     "output_type": "execute_result"
    }
   ],
   "source": [
    "# Check Dupliacate\n",
    "\n",
    "tabel1[tabel1.duplicated()]"
   ]
  },
  {
   "cell_type": "markdown",
   "metadata": {},
   "source": [
    "## **Data Duplicate**\n",
    "\n",
    "Anomali berikutnya yang bisa ditemui adalah data yang duplikat. Tentu saja data yang bersifat duplikat ini akan menjadi sesuatu hal yang akan mengganggu proses analisis data. Jika memang nantinya terdapat data yang duplikat, sebaiknya data duplikatnya dihapus dan disisakan data yang unique saja. Untuk data saat ini, melihat output di atas artinya tidak terdapat data yang duplikat. Dengan begitu tidak perlu ada action yang dilakukan."
   ]
  },
  {
   "cell_type": "markdown",
   "metadata": {},
   "source": [
    "## **Feature 'Gender'**\n",
    "\n",
    "Langkah selanjutnya kita dapat melakukan ekstraksi informasi tambahan dari feature TitleOfCourtesy. Sebelumnya, kita perlu tahu dulu definisi dari tabel tersebut. TitleOfCourtesy secara singkat merupakan feature yang berisi data Dr., Mr., Mrs., Ms., atau sebutan yang digunakan untuk memanggil seorang.\n",
    "\n",
    "Informasi yang dapat diambil dari feature ini yakni Gender dari masing-masing Employee. Oleh karena itu, untuk mendapatkan informasinya, maka perlu dilakukan transformasi menggunakan if else stetment terhadap attribute dari feature TitleOfCourtesy secara menyeluruh. Output yang keluar nantinya akan berupa keterangan apakah Employee tersebut ber-gender Male atau Female."
   ]
  },
  {
   "cell_type": "code",
   "execution_count": 29,
   "metadata": {},
   "outputs": [],
   "source": [
    "# Add gender column \n",
    "def convert_gender_category(row):\n",
    "    if row['TitleOfCourtesy'] == 'Mr.':\n",
    "        return 'Male'\n",
    "    elif row['TitleOfCourtesy'] == 'Dr.':\n",
    "        return 'Male'\n",
    "    elif row['TitleOfCourtesy'] == 'Mrs.':\n",
    "        return 'Female'\n",
    "    else:\n",
    "        return 'Female'\n",
    "\n",
    "tabel1['Gender'] = tabel1.apply(convert_gender_category, axis=1)"
   ]
  },
  {
   "cell_type": "markdown",
   "metadata": {},
   "source": [
    "## **Feature 'ProcessingDate'**\n",
    "\n",
    "Kemudian untuk langkah berikutnya adalah kita dapat melakukan ekstraksi informasi tambahan terhadap feature HireDate. HireDate sendiri merupakan sebuah feature yang memuat informasi waktu dari tiap employee pertamakali di hire / dipekerjakan pada perusahaan Northwind.\n",
    "\n",
    "Informasi yang dapat diambil dari feature ini yakni lama waktu employee bekerja. Oleh karena itu, untuk mendapatkan informasinya perlu dilakukan transformasi menggunakan pengurangan antara waktu tahun 1995 dengan waktu pertama kali employee di hire. Mungkin akan timbul pertanyaan, apakah waktu dapat dikurangkan? Jawabannya, bisa. Output yang keluar nantinya akan berupa selisih atau lamanya waktu employee bekerja untuk perusahaan Northwind."
   ]
  },
  {
   "cell_type": "code",
   "execution_count": 30,
   "metadata": {},
   "outputs": [],
   "source": [
    "tabel1['DurationWorkingTime'] = tabel1['HireDate'].dt.strftime('%Y')\n",
    "tabel1['DurationWorkingTime'] = tabel1['DurationWorkingTime'].astype(int)\n",
    "tabel1['DurationWorkingTime'] = 1995 - tabel1['DurationWorkingTime']"
   ]
  },
  {
   "cell_type": "markdown",
   "metadata": {},
   "source": [
    "## **Feature 'Age and Age Generation'**\n",
    "\n",
    "Pada bagian ini berisi proses ekstraksi informasi tambahan dari feature BirthDate untuk mendapatkan informasi umur dan kategori generasi umur dari tiap employee. Untuk itu kita perlu memahami apa itu feature BirthDate terlebih dahulu. Feature BirthDate merupakan data yang berisi attribute tanggal lahir dari tiap employee Northwind. \n",
    "\n",
    "Output yang akan keluar nantinya akan berupa keterangan umur employee seperti 30, 40, atau 50 tahun dan kategori generasi umur dari tiap employee seperti Generation Z, Generation X, dan seterusnya. Cara yang digunakan untuk ekstraksi informasi ini adalah:\n",
    "- Melakukan transformasi tanggal dengan menggambil tahun dari feature BirthDate menggunakan fungsi .dt.strftime()\n",
    "- Mengubah tipe data feature menjadi integer dengan fungsi .astype()\n",
    "- Melakukan perhitungan selisih dengan cara mengurangi waktu yang digunakan (1995) dengan tabel transformasi\n",
    "- Menggunakan if else statment untuk mengkategorikan generasi umur dari tiap employee"
   ]
  },
  {
   "cell_type": "code",
   "execution_count": 31,
   "metadata": {},
   "outputs": [],
   "source": [
    "# Add age column \n",
    "tabel1['Age'] = tabel1['BirthDate'].dt.strftime('%Y')\n",
    "tabel1['Age'] = tabel1['Age'].astype(int)\n",
    "tabel1['Age'] = 1995 - tabel1['Age']"
   ]
  },
  {
   "cell_type": "code",
   "execution_count": 32,
   "metadata": {},
   "outputs": [],
   "source": [
    "# Add age generation column \n",
    "def convert_age_category(row):\n",
    "    if row['Age'] <= 22:\n",
    "        return 'Generation Z'\n",
    "    elif row['Age'] <= 38:\n",
    "        return 'Millenials'\n",
    "    elif row['Age'] <= 54:\n",
    "        return 'Generation X'\n",
    "    elif row['Age'] <= 73:\n",
    "        return 'Baby Boomers'\n",
    "    elif row['Age'] <= 91:\n",
    "        return 'Silent'\n",
    "    else:\n",
    "        return 'unknown'\n",
    "\n",
    "tabel1['AgeGeneration'] = tabel1.apply(convert_age_category, axis=1)"
   ]
  },
  {
   "cell_type": "markdown",
   "metadata": {},
   "source": [
    "## **Unique Value 'Gender'**\n",
    "\n",
    "Setelah membuat sebuah kolom baru yang bernama Gender sebagaimana yang sudah didefinisikan sebelumnya, mari kita cek bagaimana data tersebut. Jika melihat dari preview output sebelumnya, tidak ada keanehan. Lantas bagaimana jika kita melihat lebih dalam ke dalam feature baru ini? Berikut ini penampakan hasil yang memperlihatkan unique values dari kolom baru ini."
   ]
  },
  {
   "cell_type": "code",
   "execution_count": 33,
   "metadata": {},
   "outputs": [
    {
     "data": {
      "text/plain": [
       "Female    1939\n",
       "Male      1349\n",
       "Name: Gender, dtype: int64"
      ]
     },
     "execution_count": 33,
     "metadata": {},
     "output_type": "execute_result"
    }
   ],
   "source": [
    "tabel1['Gender'].value_counts()"
   ]
  },
  {
   "cell_type": "markdown",
   "metadata": {},
   "source": [
    "## **Unique Value 'ProcessingDate'**\n",
    "\n",
    "Kemudian untuk kolom baru berikutnya yang bernama DurationWorkingTime juga tidak ada keanehan pada data ini. Berikut merupakan hasil yang memperlihatkan unique values dari feature baru ini apabila kita melihat lebih kedalam."
   ]
  },
  {
   "cell_type": "code",
   "execution_count": 34,
   "metadata": {},
   "outputs": [
    {
     "data": {
      "text/plain": [
       "1    1437\n",
       "2    1097\n",
       "3     754\n",
       "Name: DurationWorkingTime, dtype: int64"
      ]
     },
     "execution_count": 34,
     "metadata": {},
     "output_type": "execute_result"
    }
   ],
   "source": [
    "# Check Data Anomalies in Date Time Fomrat\n",
    "\n",
    "tabel1['DurationWorkingTime'].value_counts()"
   ]
  },
  {
   "cell_type": "markdown",
   "metadata": {},
   "source": [
    "## **Unique Value 'Age and Age Generation'**\n",
    "\n",
    "Selanjutnya untuk kolom baru berikutnya yang bernama Age dan AgeGeneration tidak dijumpai keanehan-keanehan pada data ini. Data berhasil ditransformasikan secara baik, sehingga informasi yang disajikan dapat tepat sasaran. Berikut merupakan output yang memperlihatkan unique values dari feature baru Age dan AgeGeneration apabila kita melihat lebih kedalam dari kedua features ini."
   ]
  },
  {
   "cell_type": "code",
   "execution_count": 35,
   "metadata": {},
   "outputs": [
    {
     "data": {
      "text/plain": [
       "32    843\n",
       "35    720\n",
       "58    468\n",
       "37    416\n",
       "29    301\n",
       "40    294\n",
       "47    246\n",
       "Name: Age, dtype: int64"
      ]
     },
     "metadata": {},
     "output_type": "display_data"
    },
    {
     "data": {
      "text/plain": [
       "Millenials      2280\n",
       "Generation X     540\n",
       "Baby Boomers     468\n",
       "Name: AgeGeneration, dtype: int64"
      ]
     },
     "metadata": {},
     "output_type": "display_data"
    }
   ],
   "source": [
    "# Check Data Anomalies in Age and Age Generation features\n",
    "\n",
    "display(tabel1['Age'].value_counts())\n",
    "display(tabel1['AgeGeneration'].value_counts())"
   ]
  },
  {
   "cell_type": "markdown",
   "metadata": {},
   "source": [
    "## **Anomali Pada Processing Process**\n",
    "\n",
    "Melihat output unique values dari data-data diatas kesimpulan yang dapat ditarik adalah sudah tidak adanya keanehan yang terjadi. Sehingga asumsi yang dapat digunakan untuk kemudian dapat lanjut keproses analisa berikutnya adalah data cenderung normal dan sudah konsisten sampai saat ini."
   ]
  },
  {
   "cell_type": "code",
   "execution_count": 36,
   "metadata": {},
   "outputs": [],
   "source": [
    "# There are no anomalies for preprocessed data\n"
   ]
  },
  {
   "cell_type": "markdown",
   "metadata": {},
   "source": [
    "## **Preview Cleaned Data**\n",
    "\n",
    "Setelah semua anomalies sudah diselesaikan, artinya data yang dimiliki sudah bersih. Di bawah ini adalah sample data yang dianggap sudah bersih setelah melewati proses-proses sebelumnya."
   ]
  },
  {
   "cell_type": "code",
   "execution_count": 37,
   "metadata": {},
   "outputs": [
    {
     "data": {
      "text/html": [
       "<div>\n",
       "<style scoped>\n",
       "    .dataframe tbody tr th:only-of-type {\n",
       "        vertical-align: middle;\n",
       "    }\n",
       "\n",
       "    .dataframe tbody tr th {\n",
       "        vertical-align: top;\n",
       "    }\n",
       "\n",
       "    .dataframe thead th {\n",
       "        text-align: right;\n",
       "    }\n",
       "</style>\n",
       "<table border=\"1\" class=\"dataframe\">\n",
       "  <thead>\n",
       "    <tr style=\"text-align: right;\">\n",
       "      <th></th>\n",
       "      <th>EmployeeID</th>\n",
       "      <th>FirstName</th>\n",
       "      <th>LastName</th>\n",
       "      <th>Title</th>\n",
       "      <th>TitleOfCourtesy</th>\n",
       "      <th>BirthDate</th>\n",
       "      <th>HireDate</th>\n",
       "      <th>Address</th>\n",
       "      <th>City</th>\n",
       "      <th>PostalCode</th>\n",
       "      <th>...</th>\n",
       "      <th>ShipCity</th>\n",
       "      <th>ShipCountry</th>\n",
       "      <th>TerritoryID</th>\n",
       "      <th>TerritoryDescription</th>\n",
       "      <th>RegionID</th>\n",
       "      <th>RegionDescription</th>\n",
       "      <th>Gender</th>\n",
       "      <th>DurationWorkingTime</th>\n",
       "      <th>Age</th>\n",
       "      <th>AgeGeneration</th>\n",
       "    </tr>\n",
       "  </thead>\n",
       "  <tbody>\n",
       "    <tr>\n",
       "      <th>2859</th>\n",
       "      <td>7</td>\n",
       "      <td>Robert</td>\n",
       "      <td>King</td>\n",
       "      <td>Sales Representative</td>\n",
       "      <td>Mr.</td>\n",
       "      <td>1960-05-29</td>\n",
       "      <td>1994-01-02</td>\n",
       "      <td>Edgeham Hollow\\r\\nWinchester Way</td>\n",
       "      <td>London</td>\n",
       "      <td>RG1 9SP</td>\n",
       "      <td>...</td>\n",
       "      <td>Nantes</td>\n",
       "      <td>France</td>\n",
       "      <td>94105</td>\n",
       "      <td>San Francisco                                 ...</td>\n",
       "      <td>2</td>\n",
       "      <td>Westerns                                      ...</td>\n",
       "      <td>Male</td>\n",
       "      <td>1</td>\n",
       "      <td>35</td>\n",
       "      <td>Millenials</td>\n",
       "    </tr>\n",
       "    <tr>\n",
       "      <th>1827</th>\n",
       "      <td>4</td>\n",
       "      <td>Margaret</td>\n",
       "      <td>Peacock</td>\n",
       "      <td>Sales Representative</td>\n",
       "      <td>Mrs.</td>\n",
       "      <td>1937-09-19</td>\n",
       "      <td>1993-05-03</td>\n",
       "      <td>4110 Old Redmond Rd.</td>\n",
       "      <td>Redmond</td>\n",
       "      <td>98052</td>\n",
       "      <td>...</td>\n",
       "      <td>Colchester</td>\n",
       "      <td>UK</td>\n",
       "      <td>27511</td>\n",
       "      <td>Cary                                          ...</td>\n",
       "      <td>1</td>\n",
       "      <td>Eastern                                       ...</td>\n",
       "      <td>Female</td>\n",
       "      <td>2</td>\n",
       "      <td>58</td>\n",
       "      <td>Baby Boomers</td>\n",
       "    </tr>\n",
       "    <tr>\n",
       "      <th>2484</th>\n",
       "      <td>6</td>\n",
       "      <td>Michael</td>\n",
       "      <td>Suyama</td>\n",
       "      <td>Sales Representative</td>\n",
       "      <td>Mr.</td>\n",
       "      <td>1963-07-02</td>\n",
       "      <td>1993-10-17</td>\n",
       "      <td>Coventry House\\r\\nMiner Rd.</td>\n",
       "      <td>London</td>\n",
       "      <td>EC2 7JR</td>\n",
       "      <td>...</td>\n",
       "      <td>Campinas</td>\n",
       "      <td>Brazil</td>\n",
       "      <td>85251</td>\n",
       "      <td>Scottsdale                                    ...</td>\n",
       "      <td>2</td>\n",
       "      <td>Westerns                                      ...</td>\n",
       "      <td>Male</td>\n",
       "      <td>2</td>\n",
       "      <td>32</td>\n",
       "      <td>Millenials</td>\n",
       "    </tr>\n",
       "    <tr>\n",
       "      <th>3089</th>\n",
       "      <td>7</td>\n",
       "      <td>Robert</td>\n",
       "      <td>King</td>\n",
       "      <td>Sales Representative</td>\n",
       "      <td>Mr.</td>\n",
       "      <td>1960-05-29</td>\n",
       "      <td>1994-01-02</td>\n",
       "      <td>Edgeham Hollow\\r\\nWinchester Way</td>\n",
       "      <td>London</td>\n",
       "      <td>RG1 9SP</td>\n",
       "      <td>...</td>\n",
       "      <td>Bruxelles</td>\n",
       "      <td>Belgium</td>\n",
       "      <td>94105</td>\n",
       "      <td>San Francisco                                 ...</td>\n",
       "      <td>2</td>\n",
       "      <td>Westerns                                      ...</td>\n",
       "      <td>Male</td>\n",
       "      <td>1</td>\n",
       "      <td>35</td>\n",
       "      <td>Millenials</td>\n",
       "    </tr>\n",
       "    <tr>\n",
       "      <th>1830</th>\n",
       "      <td>4</td>\n",
       "      <td>Margaret</td>\n",
       "      <td>Peacock</td>\n",
       "      <td>Sales Representative</td>\n",
       "      <td>Mrs.</td>\n",
       "      <td>1937-09-19</td>\n",
       "      <td>1993-05-03</td>\n",
       "      <td>4110 Old Redmond Rd.</td>\n",
       "      <td>Redmond</td>\n",
       "      <td>98052</td>\n",
       "      <td>...</td>\n",
       "      <td>Mxico D.F.</td>\n",
       "      <td>Mexico</td>\n",
       "      <td>27511</td>\n",
       "      <td>Cary                                          ...</td>\n",
       "      <td>1</td>\n",
       "      <td>Eastern                                       ...</td>\n",
       "      <td>Female</td>\n",
       "      <td>2</td>\n",
       "      <td>58</td>\n",
       "      <td>Baby Boomers</td>\n",
       "    </tr>\n",
       "  </tbody>\n",
       "</table>\n",
       "<p>5 rows × 35 columns</p>\n",
       "</div>"
      ],
      "text/plain": [
       "     EmployeeID FirstName LastName                 Title TitleOfCourtesy  \\\n",
       "2859          7    Robert     King  Sales Representative             Mr.   \n",
       "1827          4  Margaret  Peacock  Sales Representative            Mrs.   \n",
       "2484          6   Michael   Suyama  Sales Representative             Mr.   \n",
       "3089          7    Robert     King  Sales Representative             Mr.   \n",
       "1830          4  Margaret  Peacock  Sales Representative            Mrs.   \n",
       "\n",
       "      BirthDate   HireDate                           Address     City  \\\n",
       "2859 1960-05-29 1994-01-02  Edgeham Hollow\\r\\nWinchester Way   London   \n",
       "1827 1937-09-19 1993-05-03              4110 Old Redmond Rd.  Redmond   \n",
       "2484 1963-07-02 1993-10-17       Coventry House\\r\\nMiner Rd.   London   \n",
       "3089 1960-05-29 1994-01-02  Edgeham Hollow\\r\\nWinchester Way   London   \n",
       "1830 1937-09-19 1993-05-03              4110 Old Redmond Rd.  Redmond   \n",
       "\n",
       "     PostalCode  ...    ShipCity ShipCountry  TerritoryID  \\\n",
       "2859    RG1 9SP  ...      Nantes      France        94105   \n",
       "1827      98052  ...  Colchester          UK        27511   \n",
       "2484    EC2 7JR  ...    Campinas      Brazil        85251   \n",
       "3089    RG1 9SP  ...   Bruxelles     Belgium        94105   \n",
       "1830      98052  ...  Mxico D.F.      Mexico        27511   \n",
       "\n",
       "                                   TerritoryDescription RegionID  \\\n",
       "2859  San Francisco                                 ...        2   \n",
       "1827  Cary                                          ...        1   \n",
       "2484  Scottsdale                                    ...        2   \n",
       "3089  San Francisco                                 ...        2   \n",
       "1830  Cary                                          ...        1   \n",
       "\n",
       "                                      RegionDescription  Gender  \\\n",
       "2859  Westerns                                      ...    Male   \n",
       "1827  Eastern                                       ...  Female   \n",
       "2484  Westerns                                      ...    Male   \n",
       "3089  Westerns                                      ...    Male   \n",
       "1830  Eastern                                       ...  Female   \n",
       "\n",
       "     DurationWorkingTime Age AgeGeneration  \n",
       "2859                   1  35    Millenials  \n",
       "1827                   2  58  Baby Boomers  \n",
       "2484                   2  32    Millenials  \n",
       "3089                   1  35    Millenials  \n",
       "1830                   2  58  Baby Boomers  \n",
       "\n",
       "[5 rows x 35 columns]"
      ]
     },
     "execution_count": 37,
     "metadata": {},
     "output_type": "execute_result"
    }
   ],
   "source": [
    "# Clean Data\n",
    "\n",
    "tabel1.sample(5)"
   ]
  },
  {
   "cell_type": "markdown",
   "metadata": {},
   "source": [
    "## **General Info Cleaned Data**"
   ]
  },
  {
   "cell_type": "code",
   "execution_count": 38,
   "metadata": {},
   "outputs": [
    {
     "data": {
      "text/html": [
       "<div>\n",
       "<style scoped>\n",
       "    .dataframe tbody tr th:only-of-type {\n",
       "        vertical-align: middle;\n",
       "    }\n",
       "\n",
       "    .dataframe tbody tr th {\n",
       "        vertical-align: top;\n",
       "    }\n",
       "\n",
       "    .dataframe thead th {\n",
       "        text-align: right;\n",
       "    }\n",
       "</style>\n",
       "<table border=\"1\" class=\"dataframe\">\n",
       "  <thead>\n",
       "    <tr style=\"text-align: right;\">\n",
       "      <th></th>\n",
       "      <th>Column Name</th>\n",
       "      <th>Data Type</th>\n",
       "      <th>Data Count</th>\n",
       "      <th>Missing Value</th>\n",
       "      <th>Missing Value Percentage</th>\n",
       "      <th>Number of Unique</th>\n",
       "      <th>Unique Sample</th>\n",
       "    </tr>\n",
       "  </thead>\n",
       "  <tbody>\n",
       "    <tr>\n",
       "      <th>0</th>\n",
       "      <td>EmployeeID</td>\n",
       "      <td>object</td>\n",
       "      <td>3288</td>\n",
       "      <td>0</td>\n",
       "      <td>0.0</td>\n",
       "      <td>8</td>\n",
       "      <td>[9, 3]</td>\n",
       "    </tr>\n",
       "    <tr>\n",
       "      <th>1</th>\n",
       "      <td>FirstName</td>\n",
       "      <td>object</td>\n",
       "      <td>3288</td>\n",
       "      <td>0</td>\n",
       "      <td>0.0</td>\n",
       "      <td>8</td>\n",
       "      <td>[Anne, Steven]</td>\n",
       "    </tr>\n",
       "    <tr>\n",
       "      <th>2</th>\n",
       "      <td>LastName</td>\n",
       "      <td>object</td>\n",
       "      <td>3288</td>\n",
       "      <td>0</td>\n",
       "      <td>0.0</td>\n",
       "      <td>8</td>\n",
       "      <td>[Dodsworth, Suyama]</td>\n",
       "    </tr>\n",
       "    <tr>\n",
       "      <th>3</th>\n",
       "      <td>Title</td>\n",
       "      <td>object</td>\n",
       "      <td>3288</td>\n",
       "      <td>0</td>\n",
       "      <td>0.0</td>\n",
       "      <td>3</td>\n",
       "      <td>[Sales Representative, Sales Manager]</td>\n",
       "    </tr>\n",
       "    <tr>\n",
       "      <th>4</th>\n",
       "      <td>TitleOfCourtesy</td>\n",
       "      <td>object</td>\n",
       "      <td>3288</td>\n",
       "      <td>0</td>\n",
       "      <td>0.0</td>\n",
       "      <td>3</td>\n",
       "      <td>[Ms., Mr.]</td>\n",
       "    </tr>\n",
       "    <tr>\n",
       "      <th>5</th>\n",
       "      <td>BirthDate</td>\n",
       "      <td>datetime64[ns]</td>\n",
       "      <td>3288</td>\n",
       "      <td>0</td>\n",
       "      <td>0.0</td>\n",
       "      <td>8</td>\n",
       "      <td>[1963-07-02T00:00:00.000000000, 1963-08-30T00:...</td>\n",
       "    </tr>\n",
       "    <tr>\n",
       "      <th>6</th>\n",
       "      <td>HireDate</td>\n",
       "      <td>datetime64[ns]</td>\n",
       "      <td>3288</td>\n",
       "      <td>0</td>\n",
       "      <td>0.0</td>\n",
       "      <td>7</td>\n",
       "      <td>[1992-04-01T00:00:00.000000000, 1994-03-05T00:...</td>\n",
       "    </tr>\n",
       "    <tr>\n",
       "      <th>7</th>\n",
       "      <td>Address</td>\n",
       "      <td>object</td>\n",
       "      <td>3288</td>\n",
       "      <td>0</td>\n",
       "      <td>0.0</td>\n",
       "      <td>8</td>\n",
       "      <td>[Coventry House\\r\\nMiner Rd., Edgeham Hollow\\r...</td>\n",
       "    </tr>\n",
       "    <tr>\n",
       "      <th>8</th>\n",
       "      <td>City</td>\n",
       "      <td>object</td>\n",
       "      <td>3288</td>\n",
       "      <td>0</td>\n",
       "      <td>0.0</td>\n",
       "      <td>4</td>\n",
       "      <td>[Seattle, Kirkland]</td>\n",
       "    </tr>\n",
       "    <tr>\n",
       "      <th>9</th>\n",
       "      <td>PostalCode</td>\n",
       "      <td>object</td>\n",
       "      <td>3288</td>\n",
       "      <td>0</td>\n",
       "      <td>0.0</td>\n",
       "      <td>8</td>\n",
       "      <td>[RG1 9SP, 98033]</td>\n",
       "    </tr>\n",
       "    <tr>\n",
       "      <th>10</th>\n",
       "      <td>Country</td>\n",
       "      <td>object</td>\n",
       "      <td>3288</td>\n",
       "      <td>0</td>\n",
       "      <td>0.0</td>\n",
       "      <td>2</td>\n",
       "      <td>[UK, USA]</td>\n",
       "    </tr>\n",
       "    <tr>\n",
       "      <th>11</th>\n",
       "      <td>HomePhone</td>\n",
       "      <td>object</td>\n",
       "      <td>3288</td>\n",
       "      <td>0</td>\n",
       "      <td>0.0</td>\n",
       "      <td>8</td>\n",
       "      <td>[(71) 555-7773, (206) 555-3412]</td>\n",
       "    </tr>\n",
       "    <tr>\n",
       "      <th>12</th>\n",
       "      <td>Extension</td>\n",
       "      <td>int64</td>\n",
       "      <td>3288</td>\n",
       "      <td>0</td>\n",
       "      <td>0.0</td>\n",
       "      <td>8</td>\n",
       "      <td>[5176, 2344]</td>\n",
       "    </tr>\n",
       "    <tr>\n",
       "      <th>13</th>\n",
       "      <td>Notes</td>\n",
       "      <td>object</td>\n",
       "      <td>3288</td>\n",
       "      <td>0</td>\n",
       "      <td>0.0</td>\n",
       "      <td>8</td>\n",
       "      <td>[Robert King served in the Peace Corps and tra...</td>\n",
       "    </tr>\n",
       "    <tr>\n",
       "      <th>14</th>\n",
       "      <td>ReportsTo</td>\n",
       "      <td>object</td>\n",
       "      <td>3288</td>\n",
       "      <td>0</td>\n",
       "      <td>0.0</td>\n",
       "      <td>2</td>\n",
       "      <td>[5.0, 2.0]</td>\n",
       "    </tr>\n",
       "    <tr>\n",
       "      <th>15</th>\n",
       "      <td>PhotoPath</td>\n",
       "      <td>object</td>\n",
       "      <td>3288</td>\n",
       "      <td>0</td>\n",
       "      <td>0.0</td>\n",
       "      <td>4</td>\n",
       "      <td>[http://accweb/emmployees/buchanan.bmp, http:/...</td>\n",
       "    </tr>\n",
       "    <tr>\n",
       "      <th>16</th>\n",
       "      <td>Salary</td>\n",
       "      <td>int32</td>\n",
       "      <td>3288</td>\n",
       "      <td>0</td>\n",
       "      <td>0.0</td>\n",
       "      <td>8</td>\n",
       "      <td>[2100, 1991]</td>\n",
       "    </tr>\n",
       "    <tr>\n",
       "      <th>17</th>\n",
       "      <td>OrderID</td>\n",
       "      <td>object</td>\n",
       "      <td>3288</td>\n",
       "      <td>0</td>\n",
       "      <td>0.0</td>\n",
       "      <td>734</td>\n",
       "      <td>[10485, 10892]</td>\n",
       "    </tr>\n",
       "    <tr>\n",
       "      <th>18</th>\n",
       "      <td>CustomerID</td>\n",
       "      <td>object</td>\n",
       "      <td>3288</td>\n",
       "      <td>0</td>\n",
       "      <td>0.0</td>\n",
       "      <td>89</td>\n",
       "      <td>[HILAA, OLDWO]</td>\n",
       "    </tr>\n",
       "    <tr>\n",
       "      <th>19</th>\n",
       "      <td>OrderDate</td>\n",
       "      <td>datetime64[ns]</td>\n",
       "      <td>3288</td>\n",
       "      <td>0</td>\n",
       "      <td>0.0</td>\n",
       "      <td>457</td>\n",
       "      <td>[1997-08-21T00:00:00.000000000, 1997-10-23T00:...</td>\n",
       "    </tr>\n",
       "    <tr>\n",
       "      <th>20</th>\n",
       "      <td>RequiredDate</td>\n",
       "      <td>datetime64[ns]</td>\n",
       "      <td>3288</td>\n",
       "      <td>0</td>\n",
       "      <td>0.0</td>\n",
       "      <td>430</td>\n",
       "      <td>[1996-10-14T00:00:00.000000000, 1997-09-01T00:...</td>\n",
       "    </tr>\n",
       "    <tr>\n",
       "      <th>21</th>\n",
       "      <td>ShipVia</td>\n",
       "      <td>object</td>\n",
       "      <td>3288</td>\n",
       "      <td>0</td>\n",
       "      <td>0.0</td>\n",
       "      <td>3</td>\n",
       "      <td>[1, 3]</td>\n",
       "    </tr>\n",
       "    <tr>\n",
       "      <th>22</th>\n",
       "      <td>Freight</td>\n",
       "      <td>float64</td>\n",
       "      <td>3288</td>\n",
       "      <td>0</td>\n",
       "      <td>0.0</td>\n",
       "      <td>709</td>\n",
       "      <td>[163.97, 227.22]</td>\n",
       "    </tr>\n",
       "    <tr>\n",
       "      <th>23</th>\n",
       "      <td>ShipName</td>\n",
       "      <td>object</td>\n",
       "      <td>3288</td>\n",
       "      <td>0</td>\n",
       "      <td>0.0</td>\n",
       "      <td>90</td>\n",
       "      <td>[Island Trading, Let-s Stop N Shop]</td>\n",
       "    </tr>\n",
       "    <tr>\n",
       "      <th>24</th>\n",
       "      <td>ShipAddress</td>\n",
       "      <td>object</td>\n",
       "      <td>3288</td>\n",
       "      <td>0</td>\n",
       "      <td>0.0</td>\n",
       "      <td>89</td>\n",
       "      <td>[43 rue St. Laurent, Calle Dr. Jorge Cash 321]</td>\n",
       "    </tr>\n",
       "    <tr>\n",
       "      <th>25</th>\n",
       "      <td>ShipCity</td>\n",
       "      <td>object</td>\n",
       "      <td>3288</td>\n",
       "      <td>0</td>\n",
       "      <td>0.0</td>\n",
       "      <td>70</td>\n",
       "      <td>[Vancouver, Frankfurt a.M.]</td>\n",
       "    </tr>\n",
       "    <tr>\n",
       "      <th>26</th>\n",
       "      <td>ShipCountry</td>\n",
       "      <td>object</td>\n",
       "      <td>3288</td>\n",
       "      <td>0</td>\n",
       "      <td>0.0</td>\n",
       "      <td>21</td>\n",
       "      <td>[France, Portugal]</td>\n",
       "    </tr>\n",
       "    <tr>\n",
       "      <th>27</th>\n",
       "      <td>TerritoryID</td>\n",
       "      <td>int32</td>\n",
       "      <td>3288</td>\n",
       "      <td>0</td>\n",
       "      <td>0.0</td>\n",
       "      <td>42</td>\n",
       "      <td>[94105, 19713]</td>\n",
       "    </tr>\n",
       "    <tr>\n",
       "      <th>28</th>\n",
       "      <td>TerritoryDescription</td>\n",
       "      <td>object</td>\n",
       "      <td>3288</td>\n",
       "      <td>0</td>\n",
       "      <td>0.0</td>\n",
       "      <td>41</td>\n",
       "      <td>[Greensboro                                   ...</td>\n",
       "    </tr>\n",
       "    <tr>\n",
       "      <th>29</th>\n",
       "      <td>RegionID</td>\n",
       "      <td>object</td>\n",
       "      <td>3288</td>\n",
       "      <td>0</td>\n",
       "      <td>0.0</td>\n",
       "      <td>4</td>\n",
       "      <td>[2, 4]</td>\n",
       "    </tr>\n",
       "    <tr>\n",
       "      <th>30</th>\n",
       "      <td>RegionDescription</td>\n",
       "      <td>object</td>\n",
       "      <td>3288</td>\n",
       "      <td>0</td>\n",
       "      <td>0.0</td>\n",
       "      <td>4</td>\n",
       "      <td>[Northern                                     ...</td>\n",
       "    </tr>\n",
       "    <tr>\n",
       "      <th>31</th>\n",
       "      <td>Gender</td>\n",
       "      <td>object</td>\n",
       "      <td>3288</td>\n",
       "      <td>0</td>\n",
       "      <td>0.0</td>\n",
       "      <td>2</td>\n",
       "      <td>[Female, Male]</td>\n",
       "    </tr>\n",
       "    <tr>\n",
       "      <th>32</th>\n",
       "      <td>DurationWorkingTime</td>\n",
       "      <td>int32</td>\n",
       "      <td>3288</td>\n",
       "      <td>0</td>\n",
       "      <td>0.0</td>\n",
       "      <td>3</td>\n",
       "      <td>[2, 1]</td>\n",
       "    </tr>\n",
       "    <tr>\n",
       "      <th>33</th>\n",
       "      <td>Age</td>\n",
       "      <td>int32</td>\n",
       "      <td>3288</td>\n",
       "      <td>0</td>\n",
       "      <td>0.0</td>\n",
       "      <td>7</td>\n",
       "      <td>[37, 29]</td>\n",
       "    </tr>\n",
       "    <tr>\n",
       "      <th>34</th>\n",
       "      <td>AgeGeneration</td>\n",
       "      <td>object</td>\n",
       "      <td>3288</td>\n",
       "      <td>0</td>\n",
       "      <td>0.0</td>\n",
       "      <td>3</td>\n",
       "      <td>[Millenials, Generation X]</td>\n",
       "    </tr>\n",
       "  </tbody>\n",
       "</table>\n",
       "</div>"
      ],
      "text/plain": [
       "             Column Name       Data Type  Data Count  Missing Value  \\\n",
       "0             EmployeeID          object        3288              0   \n",
       "1              FirstName          object        3288              0   \n",
       "2               LastName          object        3288              0   \n",
       "3                  Title          object        3288              0   \n",
       "4        TitleOfCourtesy          object        3288              0   \n",
       "5              BirthDate  datetime64[ns]        3288              0   \n",
       "6               HireDate  datetime64[ns]        3288              0   \n",
       "7                Address          object        3288              0   \n",
       "8                   City          object        3288              0   \n",
       "9             PostalCode          object        3288              0   \n",
       "10               Country          object        3288              0   \n",
       "11             HomePhone          object        3288              0   \n",
       "12             Extension           int64        3288              0   \n",
       "13                 Notes          object        3288              0   \n",
       "14             ReportsTo          object        3288              0   \n",
       "15             PhotoPath          object        3288              0   \n",
       "16                Salary           int32        3288              0   \n",
       "17               OrderID          object        3288              0   \n",
       "18            CustomerID          object        3288              0   \n",
       "19             OrderDate  datetime64[ns]        3288              0   \n",
       "20          RequiredDate  datetime64[ns]        3288              0   \n",
       "21               ShipVia          object        3288              0   \n",
       "22               Freight         float64        3288              0   \n",
       "23              ShipName          object        3288              0   \n",
       "24           ShipAddress          object        3288              0   \n",
       "25              ShipCity          object        3288              0   \n",
       "26           ShipCountry          object        3288              0   \n",
       "27           TerritoryID           int32        3288              0   \n",
       "28  TerritoryDescription          object        3288              0   \n",
       "29              RegionID          object        3288              0   \n",
       "30     RegionDescription          object        3288              0   \n",
       "31                Gender          object        3288              0   \n",
       "32   DurationWorkingTime           int32        3288              0   \n",
       "33                   Age           int32        3288              0   \n",
       "34         AgeGeneration          object        3288              0   \n",
       "\n",
       "    Missing Value Percentage  Number of Unique  \\\n",
       "0                        0.0                 8   \n",
       "1                        0.0                 8   \n",
       "2                        0.0                 8   \n",
       "3                        0.0                 3   \n",
       "4                        0.0                 3   \n",
       "5                        0.0                 8   \n",
       "6                        0.0                 7   \n",
       "7                        0.0                 8   \n",
       "8                        0.0                 4   \n",
       "9                        0.0                 8   \n",
       "10                       0.0                 2   \n",
       "11                       0.0                 8   \n",
       "12                       0.0                 8   \n",
       "13                       0.0                 8   \n",
       "14                       0.0                 2   \n",
       "15                       0.0                 4   \n",
       "16                       0.0                 8   \n",
       "17                       0.0               734   \n",
       "18                       0.0                89   \n",
       "19                       0.0               457   \n",
       "20                       0.0               430   \n",
       "21                       0.0                 3   \n",
       "22                       0.0               709   \n",
       "23                       0.0                90   \n",
       "24                       0.0                89   \n",
       "25                       0.0                70   \n",
       "26                       0.0                21   \n",
       "27                       0.0                42   \n",
       "28                       0.0                41   \n",
       "29                       0.0                 4   \n",
       "30                       0.0                 4   \n",
       "31                       0.0                 2   \n",
       "32                       0.0                 3   \n",
       "33                       0.0                 7   \n",
       "34                       0.0                 3   \n",
       "\n",
       "                                        Unique Sample  \n",
       "0                                              [9, 3]  \n",
       "1                                      [Anne, Steven]  \n",
       "2                                 [Dodsworth, Suyama]  \n",
       "3               [Sales Representative, Sales Manager]  \n",
       "4                                          [Ms., Mr.]  \n",
       "5   [1963-07-02T00:00:00.000000000, 1963-08-30T00:...  \n",
       "6   [1992-04-01T00:00:00.000000000, 1994-03-05T00:...  \n",
       "7   [Coventry House\\r\\nMiner Rd., Edgeham Hollow\\r...  \n",
       "8                                 [Seattle, Kirkland]  \n",
       "9                                    [RG1 9SP, 98033]  \n",
       "10                                          [UK, USA]  \n",
       "11                    [(71) 555-7773, (206) 555-3412]  \n",
       "12                                       [5176, 2344]  \n",
       "13  [Robert King served in the Peace Corps and tra...  \n",
       "14                                         [5.0, 2.0]  \n",
       "15  [http://accweb/emmployees/buchanan.bmp, http:/...  \n",
       "16                                       [2100, 1991]  \n",
       "17                                     [10485, 10892]  \n",
       "18                                     [HILAA, OLDWO]  \n",
       "19  [1997-08-21T00:00:00.000000000, 1997-10-23T00:...  \n",
       "20  [1996-10-14T00:00:00.000000000, 1997-09-01T00:...  \n",
       "21                                             [1, 3]  \n",
       "22                                   [163.97, 227.22]  \n",
       "23                [Island Trading, Let-s Stop N Shop]  \n",
       "24     [43 rue St. Laurent, Calle Dr. Jorge Cash 321]  \n",
       "25                        [Vancouver, Frankfurt a.M.]  \n",
       "26                                 [France, Portugal]  \n",
       "27                                     [94105, 19713]  \n",
       "28  [Greensboro                                   ...  \n",
       "29                                             [2, 4]  \n",
       "30  [Northern                                     ...  \n",
       "31                                     [Female, Male]  \n",
       "32                                             [2, 1]  \n",
       "33                                           [37, 29]  \n",
       "34                         [Millenials, Generation X]  "
      ]
     },
     "execution_count": 38,
     "metadata": {},
     "output_type": "execute_result"
    }
   ],
   "source": [
    "# Check some Info\n",
    "\n",
    "listItem = []\n",
    "for col in tabel1.columns :\n",
    "    listItem.append([col, tabel1[col].dtypes, len(tabel1),tabel1[col].isna().sum(), round((tabel1[col].isna().sum()/len(tabel1[col])) * 100,2),\n",
    "                    tabel1[col].nunique(), list(tabel1[col].drop_duplicates().sample(2).values)])\n",
    "\n",
    "tabel1Desc = pd.DataFrame(columns=['Column Name', 'Data Type', 'Data Count', 'Missing Value', \n",
    "    'Missing Value Percentage', 'Number of Unique', 'Unique Sample'], \n",
    "    data=listItem)\n",
    "\n",
    "tabel1Desc"
   ]
  },
  {
   "cell_type": "markdown",
   "metadata": {},
   "source": [
    "## **Order berdasarkan Age dari Employee**"
   ]
  },
  {
   "cell_type": "code",
   "execution_count": 39,
   "metadata": {},
   "outputs": [
    {
     "name": "stderr",
     "output_type": "stream",
     "text": [
      "C:\\Users\\User\\AppData\\Local\\Programs\\Python\\Python310\\lib\\site-packages\\pandas\\core\\groupby\\groupby.py:1973: FutureWarning: Treating datetime data as categorical rather than numeric in `.describe` is deprecated and will be removed in a future version of pandas. Specify `datetime_is_numeric=True` to silence this warning and adopt the future behavior now.\n",
      "  result = self.apply(lambda x: x.describe(**kwargs))\n"
     ]
    },
    {
     "data": {
      "text/html": [
       "<div>\n",
       "<style scoped>\n",
       "    .dataframe tbody tr th:only-of-type {\n",
       "        vertical-align: middle;\n",
       "    }\n",
       "\n",
       "    .dataframe tbody tr th {\n",
       "        vertical-align: top;\n",
       "    }\n",
       "\n",
       "    .dataframe thead tr th {\n",
       "        text-align: left;\n",
       "    }\n",
       "\n",
       "    .dataframe thead tr:last-of-type th {\n",
       "        text-align: right;\n",
       "    }\n",
       "</style>\n",
       "<table border=\"1\" class=\"dataframe\">\n",
       "  <thead>\n",
       "    <tr>\n",
       "      <th></th>\n",
       "      <th colspan=\"6\" halign=\"left\">OrderDate</th>\n",
       "    </tr>\n",
       "    <tr>\n",
       "      <th></th>\n",
       "      <th>count</th>\n",
       "      <th>unique</th>\n",
       "      <th>top</th>\n",
       "      <th>freq</th>\n",
       "      <th>first</th>\n",
       "      <th>last</th>\n",
       "    </tr>\n",
       "    <tr>\n",
       "      <th>Age</th>\n",
       "      <th></th>\n",
       "      <th></th>\n",
       "      <th></th>\n",
       "      <th></th>\n",
       "      <th></th>\n",
       "      <th></th>\n",
       "    </tr>\n",
       "  </thead>\n",
       "  <tbody>\n",
       "    <tr>\n",
       "      <th>29</th>\n",
       "      <td>301</td>\n",
       "      <td>41</td>\n",
       "      <td>1998-01-13</td>\n",
       "      <td>14</td>\n",
       "      <td>1996-07-12</td>\n",
       "      <td>1998-04-29</td>\n",
       "    </tr>\n",
       "    <tr>\n",
       "      <th>32</th>\n",
       "      <td>843</td>\n",
       "      <td>175</td>\n",
       "      <td>1997-10-14</td>\n",
       "      <td>10</td>\n",
       "      <td>1996-07-05</td>\n",
       "      <td>1998-04-30</td>\n",
       "    </tr>\n",
       "    <tr>\n",
       "      <th>35</th>\n",
       "      <td>720</td>\n",
       "      <td>68</td>\n",
       "      <td>1997-04-04</td>\n",
       "      <td>20</td>\n",
       "      <td>1996-08-26</td>\n",
       "      <td>1998-05-06</td>\n",
       "    </tr>\n",
       "    <tr>\n",
       "      <th>37</th>\n",
       "      <td>416</td>\n",
       "      <td>96</td>\n",
       "      <td>1998-03-19</td>\n",
       "      <td>8</td>\n",
       "      <td>1996-07-22</td>\n",
       "      <td>1998-05-06</td>\n",
       "    </tr>\n",
       "    <tr>\n",
       "      <th>40</th>\n",
       "      <td>294</td>\n",
       "      <td>40</td>\n",
       "      <td>1997-08-28</td>\n",
       "      <td>14</td>\n",
       "      <td>1996-07-04</td>\n",
       "      <td>1998-04-22</td>\n",
       "    </tr>\n",
       "    <tr>\n",
       "      <th>47</th>\n",
       "      <td>246</td>\n",
       "      <td>111</td>\n",
       "      <td>1998-01-15</td>\n",
       "      <td>4</td>\n",
       "      <td>1996-07-17</td>\n",
       "      <td>1998-05-06</td>\n",
       "    </tr>\n",
       "    <tr>\n",
       "      <th>58</th>\n",
       "      <td>468</td>\n",
       "      <td>141</td>\n",
       "      <td>1997-08-12</td>\n",
       "      <td>6</td>\n",
       "      <td>1996-07-08</td>\n",
       "      <td>1998-05-06</td>\n",
       "    </tr>\n",
       "  </tbody>\n",
       "</table>\n",
       "</div>"
      ],
      "text/plain": [
       "    OrderDate                                             \n",
       "        count unique        top freq      first       last\n",
       "Age                                                       \n",
       "29        301     41 1998-01-13   14 1996-07-12 1998-04-29\n",
       "32        843    175 1997-10-14   10 1996-07-05 1998-04-30\n",
       "35        720     68 1997-04-04   20 1996-08-26 1998-05-06\n",
       "37        416     96 1998-03-19    8 1996-07-22 1998-05-06\n",
       "40        294     40 1997-08-28   14 1996-07-04 1998-04-22\n",
       "47        246    111 1998-01-15    4 1996-07-17 1998-05-06\n",
       "58        468    141 1997-08-12    6 1996-07-08 1998-05-06"
      ]
     },
     "execution_count": 39,
     "metadata": {},
     "output_type": "execute_result"
    }
   ],
   "source": [
    "# Groupping and Aggregating 01\n",
    "\n",
    "tabel1[['OrderDate','Age']].groupby('Age').describe()"
   ]
  },
  {
   "cell_type": "markdown",
   "metadata": {},
   "source": [
    "Terdapat sebuah feature yang bernama 'Age' pada dataset. Feature ini merupakan daftar umur para pekerja atau employee dari perusahaan Northwind yang ada pada database. Age sendiri merupakan data hasil transformasi antara waktu tahun 1995 yang ditetapkan sebagai waktu saat ini dengan waktu atau tanggal lahir para pekerja, rentang umur pekerja perusahaan Nortwhind yang tercatat adalah 29 - 58 tahun. Tentu saja usia 20 - 40 tahun akan lebih banyak secara kuantitasnya dibanding rentang usia diatas 40 tahun, sebab usia tersebut dianggap sebagai usia produktif.\n",
    "\n",
    "Kemudian hal yang menarik adalah untuk pekerja berusia 58 tahun memiliki total order yang hampir sama dengan oara pekerja berusia 37, sedangkan rentang umur 50 tahun keatas merupakan usia tidak produktif. Hal ini dapat kita gunakan sebagai acuan untuk proses analisa lanjutan apabila ingin mengetahui hal tersebut lebih lanjut. \n",
    "\n",
    "Namun asumsi yang saya gunakan pada interpretasi data ini adalah, pekerja dengan rentang umur 58 tahun masih memiliki workload yang banyak karena mereka merupakan senior dan para pekerja yang kompeten, sehingga beberapa customer harus langsung ditangani oleh pekerja yang memiliki kompetensi yang baik. Juga para pekerja direntang umur ini sedang dipersiapkan untuk masa pensiunnya, oleh karena itu perusahaan Northwind mungkin sedang melakukan beberapa upaya transisi dari pekerja usia non-produktif kepada pekerja produktif agar juga memiliki tingkat kompetensi yang sama dan bahkan lebih baik."
   ]
  },
  {
   "cell_type": "markdown",
   "metadata": {},
   "source": [
    "## **Salary berdasarkan Duration of working time pada Employee**"
   ]
  },
  {
   "cell_type": "code",
   "execution_count": 40,
   "metadata": {},
   "outputs": [
    {
     "data": {
      "text/html": [
       "<div>\n",
       "<style scoped>\n",
       "    .dataframe tbody tr th:only-of-type {\n",
       "        vertical-align: middle;\n",
       "    }\n",
       "\n",
       "    .dataframe tbody tr th {\n",
       "        vertical-align: top;\n",
       "    }\n",
       "\n",
       "    .dataframe thead tr th {\n",
       "        text-align: left;\n",
       "    }\n",
       "\n",
       "    .dataframe thead tr:last-of-type th {\n",
       "        text-align: right;\n",
       "    }\n",
       "</style>\n",
       "<table border=\"1\" class=\"dataframe\">\n",
       "  <thead>\n",
       "    <tr>\n",
       "      <th></th>\n",
       "      <th colspan=\"8\" halign=\"left\">DurationWorkingTime</th>\n",
       "    </tr>\n",
       "    <tr>\n",
       "      <th></th>\n",
       "      <th>count</th>\n",
       "      <th>mean</th>\n",
       "      <th>std</th>\n",
       "      <th>min</th>\n",
       "      <th>25%</th>\n",
       "      <th>50%</th>\n",
       "      <th>75%</th>\n",
       "      <th>max</th>\n",
       "    </tr>\n",
       "    <tr>\n",
       "      <th>Salary</th>\n",
       "      <th></th>\n",
       "      <th></th>\n",
       "      <th></th>\n",
       "      <th></th>\n",
       "      <th></th>\n",
       "      <th></th>\n",
       "      <th></th>\n",
       "      <th></th>\n",
       "    </tr>\n",
       "  </thead>\n",
       "  <tbody>\n",
       "    <tr>\n",
       "      <th>1744</th>\n",
       "      <td>294.0</td>\n",
       "      <td>2.0</td>\n",
       "      <td>0.0</td>\n",
       "      <td>2.0</td>\n",
       "      <td>2.0</td>\n",
       "      <td>2.0</td>\n",
       "      <td>2.0</td>\n",
       "      <td>2.0</td>\n",
       "    </tr>\n",
       "    <tr>\n",
       "      <th>1861</th>\n",
       "      <td>468.0</td>\n",
       "      <td>2.0</td>\n",
       "      <td>0.0</td>\n",
       "      <td>2.0</td>\n",
       "      <td>2.0</td>\n",
       "      <td>2.0</td>\n",
       "      <td>2.0</td>\n",
       "      <td>2.0</td>\n",
       "    </tr>\n",
       "    <tr>\n",
       "      <th>1991</th>\n",
       "      <td>720.0</td>\n",
       "      <td>1.0</td>\n",
       "      <td>0.0</td>\n",
       "      <td>1.0</td>\n",
       "      <td>1.0</td>\n",
       "      <td>1.0</td>\n",
       "      <td>1.0</td>\n",
       "      <td>1.0</td>\n",
       "    </tr>\n",
       "    <tr>\n",
       "      <th>2004</th>\n",
       "      <td>335.0</td>\n",
       "      <td>2.0</td>\n",
       "      <td>0.0</td>\n",
       "      <td>2.0</td>\n",
       "      <td>2.0</td>\n",
       "      <td>2.0</td>\n",
       "      <td>2.0</td>\n",
       "      <td>2.0</td>\n",
       "    </tr>\n",
       "    <tr>\n",
       "      <th>2100</th>\n",
       "      <td>416.0</td>\n",
       "      <td>1.0</td>\n",
       "      <td>0.0</td>\n",
       "      <td>1.0</td>\n",
       "      <td>1.0</td>\n",
       "      <td>1.0</td>\n",
       "      <td>1.0</td>\n",
       "      <td>1.0</td>\n",
       "    </tr>\n",
       "    <tr>\n",
       "      <th>2333</th>\n",
       "      <td>301.0</td>\n",
       "      <td>1.0</td>\n",
       "      <td>0.0</td>\n",
       "      <td>1.0</td>\n",
       "      <td>1.0</td>\n",
       "      <td>1.0</td>\n",
       "      <td>1.0</td>\n",
       "      <td>1.0</td>\n",
       "    </tr>\n",
       "    <tr>\n",
       "      <th>2954</th>\n",
       "      <td>246.0</td>\n",
       "      <td>3.0</td>\n",
       "      <td>0.0</td>\n",
       "      <td>3.0</td>\n",
       "      <td>3.0</td>\n",
       "      <td>3.0</td>\n",
       "      <td>3.0</td>\n",
       "      <td>3.0</td>\n",
       "    </tr>\n",
       "    <tr>\n",
       "      <th>3119</th>\n",
       "      <td>508.0</td>\n",
       "      <td>3.0</td>\n",
       "      <td>0.0</td>\n",
       "      <td>3.0</td>\n",
       "      <td>3.0</td>\n",
       "      <td>3.0</td>\n",
       "      <td>3.0</td>\n",
       "      <td>3.0</td>\n",
       "    </tr>\n",
       "  </tbody>\n",
       "</table>\n",
       "</div>"
      ],
      "text/plain": [
       "       DurationWorkingTime                                   \n",
       "                     count mean  std  min  25%  50%  75%  max\n",
       "Salary                                                       \n",
       "1744                 294.0  2.0  0.0  2.0  2.0  2.0  2.0  2.0\n",
       "1861                 468.0  2.0  0.0  2.0  2.0  2.0  2.0  2.0\n",
       "1991                 720.0  1.0  0.0  1.0  1.0  1.0  1.0  1.0\n",
       "2004                 335.0  2.0  0.0  2.0  2.0  2.0  2.0  2.0\n",
       "2100                 416.0  1.0  0.0  1.0  1.0  1.0  1.0  1.0\n",
       "2333                 301.0  1.0  0.0  1.0  1.0  1.0  1.0  1.0\n",
       "2954                 246.0  3.0  0.0  3.0  3.0  3.0  3.0  3.0\n",
       "3119                 508.0  3.0  0.0  3.0  3.0  3.0  3.0  3.0"
      ]
     },
     "execution_count": 40,
     "metadata": {},
     "output_type": "execute_result"
    }
   ],
   "source": [
    "# Groupping and Aggregating 02\n",
    "\n",
    "tabel1[['DurationWorkingTime','Salary']].groupby('Salary').describe()"
   ]
  },
  {
   "cell_type": "markdown",
   "metadata": {},
   "source": [
    "Interpretasi data dari tabel diatas adalah lama waktu bekerja tidak selalu diikuti dengan besar gaji yang diterima. Sehingga ada faktor lain yang mempengaruhi besarnya gaji para pekerja atau employee dari perusahaan Northwind. "
   ]
  },
  {
   "cell_type": "markdown",
   "metadata": {},
   "source": [
    "## **Data Outlier**"
   ]
  },
  {
   "cell_type": "code",
   "execution_count": 41,
   "metadata": {},
   "outputs": [
    {
     "name": "stdout",
     "output_type": "stream",
     "text": [
      "Q1 :  1991.0\n"
     ]
    },
    {
     "data": {
      "text/plain": [
       "None"
      ]
     },
     "metadata": {},
     "output_type": "display_data"
    },
    {
     "name": "stdout",
     "output_type": "stream",
     "text": [
      "Q3 :  2333.0\n"
     ]
    },
    {
     "data": {
      "text/plain": [
       "None"
      ]
     },
     "metadata": {},
     "output_type": "display_data"
    },
    {
     "name": "stdout",
     "output_type": "stream",
     "text": [
      "IQR :  342.0\n"
     ]
    },
    {
     "data": {
      "text/plain": [
       "None"
      ]
     },
     "metadata": {},
     "output_type": "display_data"
    }
   ],
   "source": [
    "Q1_amount = tabel1['Salary'].describe()['25%']\n",
    "Q3_amount = tabel1['Salary'].describe()['75%']\n",
    "iqr = Q3_amount - Q1_amount\n",
    "\n",
    "display(print('Q1 : ', Q1_amount))\n",
    "display(print('Q3 : ', Q3_amount))\n",
    "display(print('IQR : ', iqr))"
   ]
  },
  {
   "cell_type": "code",
   "execution_count": 42,
   "metadata": {},
   "outputs": [
    {
     "name": "stdout",
     "output_type": "stream",
     "text": [
      "Nilai minimum data =  1744\n",
      "Nilai maksimum data =  3119\n"
     ]
    }
   ],
   "source": [
    "nilai_min = np.min(tabel1['Salary'])\n",
    "nilai_max = np.max(tabel1['Salary'])\n",
    "\n",
    "print('Nilai minimum data = ', nilai_min)\n",
    "print('Nilai maksimum data = ', nilai_max)"
   ]
  },
  {
   "cell_type": "code",
   "execution_count": 43,
   "metadata": {},
   "outputs": [
    {
     "name": "stdout",
     "output_type": "stream",
     "text": [
      "IQR minimum =  1478.0\n",
      "IQR maksimum =  2846.0\n"
     ]
    }
   ],
   "source": [
    "min_IQR = Q1_amount - 1.5 * iqr\n",
    "max_IQR = Q3_amount + 1.5 * iqr\n",
    "\n",
    "print('IQR minimum = ', min_IQR)\n",
    "print('IQR maksimum = ', max_IQR)"
   ]
  },
  {
   "cell_type": "code",
   "execution_count": 44,
   "metadata": {},
   "outputs": [
    {
     "name": "stdout",
     "output_type": "stream",
     "text": [
      "Nilai minimum data =  1744\n",
      "Nilai maksimum data =  3119\n"
     ]
    }
   ],
   "source": [
    "nilai_min = np.min(tabel1['Salary'])\n",
    "nilai_max = np.max(tabel1['Salary'])\n",
    "\n",
    "print('Nilai minimum data = ', nilai_min)\n",
    "print('Nilai maksimum data = ', nilai_max)"
   ]
  },
  {
   "cell_type": "code",
   "execution_count": 45,
   "metadata": {},
   "outputs": [
    {
     "name": "stdout",
     "output_type": "stream",
     "text": [
      "Tidak ditemukan low outlier!\n",
      "Ditemukan high outlier!\n"
     ]
    }
   ],
   "source": [
    "# low_out = []\n",
    "# high_out = []\n",
    "\n",
    "# for i in tabel1['Salary']:\n",
    "#     if (i < min_IQR):\n",
    "#         low_out.append(i)\n",
    "#     if (i > max_IQR):\n",
    "#         high_out.append(i)\n",
    "\n",
    "# print('Low outlier : ', low_out)\n",
    "# print('High outlier : ', high_out)\n",
    "\n",
    "if (nilai_min < min_IQR):\n",
    "    print('Ditemukan low outlier!')\n",
    "else:\n",
    "    print('Tidak ditemukan low outlier!')  \n",
    "\n",
    "if (nilai_max > max_IQR):\n",
    "    print('Ditemukan high outlier!')\n",
    "else:\n",
    "    print('Tidak ditemukan high outlier!')"
   ]
  },
  {
   "cell_type": "code",
   "execution_count": 46,
   "metadata": {},
   "outputs": [
    {
     "name": "stderr",
     "output_type": "stream",
     "text": [
      "C:\\Users\\User\\AppData\\Local\\Programs\\Python\\Python310\\lib\\site-packages\\seaborn\\_decorators.py:36: FutureWarning: Pass the following variable as a keyword arg: x. From version 0.12, the only valid positional argument will be `data`, and passing other arguments without an explicit keyword will result in an error or misinterpretation.\n",
      "  warnings.warn(\n"
     ]
    },
    {
     "data": {
      "image/png": "[encoded data removed]",
      "text/plain": [
       "<Figure size 1800x720 with 1 Axes>"
      ]
     },
     "metadata": {
      "needs_background": "light"
     },
     "output_type": "display_data"
    }
   ],
   "source": [
    "import seaborn as sns\n",
    "import matplotlib.pyplot as plt\n",
    "\n",
    "plt.figure(figsize=(25,10))\n",
    "sns.boxplot(tabel1['Salary']) # create histogram in seaborn\n",
    "plt.title('Tip Boxplot', size=20) # add title\n",
    "plt.show()"
   ]
  },
  {
   "cell_type": "code",
   "execution_count": 47,
   "metadata": {},
   "outputs": [
    {
     "data": {
      "text/html": [
       "<div>\n",
       "<style scoped>\n",
       "    .dataframe tbody tr th:only-of-type {\n",
       "        vertical-align: middle;\n",
       "    }\n",
       "\n",
       "    .dataframe tbody tr th {\n",
       "        vertical-align: top;\n",
       "    }\n",
       "\n",
       "    .dataframe thead th {\n",
       "        text-align: right;\n",
       "    }\n",
       "</style>\n",
       "<table border=\"1\" class=\"dataframe\">\n",
       "  <thead>\n",
       "    <tr style=\"text-align: right;\">\n",
       "      <th></th>\n",
       "      <th>EmployeeID</th>\n",
       "      <th>FirstName</th>\n",
       "      <th>LastName</th>\n",
       "      <th>Title</th>\n",
       "      <th>TitleOfCourtesy</th>\n",
       "      <th>BirthDate</th>\n",
       "      <th>HireDate</th>\n",
       "      <th>Address</th>\n",
       "      <th>City</th>\n",
       "      <th>PostalCode</th>\n",
       "      <th>...</th>\n",
       "      <th>ShipCity</th>\n",
       "      <th>ShipCountry</th>\n",
       "      <th>TerritoryID</th>\n",
       "      <th>TerritoryDescription</th>\n",
       "      <th>RegionID</th>\n",
       "      <th>RegionDescription</th>\n",
       "      <th>Gender</th>\n",
       "      <th>DurationWorkingTime</th>\n",
       "      <th>Age</th>\n",
       "      <th>AgeGeneration</th>\n",
       "    </tr>\n",
       "  </thead>\n",
       "  <tbody>\n",
       "    <tr>\n",
       "      <th>0</th>\n",
       "      <td>1</td>\n",
       "      <td>Nancy</td>\n",
       "      <td>Davolio</td>\n",
       "      <td>Sales Representative</td>\n",
       "      <td>Ms.</td>\n",
       "      <td>1948-12-08</td>\n",
       "      <td>1992-05-01</td>\n",
       "      <td>507 - 20th Ave. E.Apt. 2A</td>\n",
       "      <td>Seattle</td>\n",
       "      <td>98122</td>\n",
       "      <td>...</td>\n",
       "      <td>Graz</td>\n",
       "      <td>Austria</td>\n",
       "      <td>6897</td>\n",
       "      <td>Wilton                                        ...</td>\n",
       "      <td>1</td>\n",
       "      <td>Eastern                                       ...</td>\n",
       "      <td>Female</td>\n",
       "      <td>3</td>\n",
       "      <td>47</td>\n",
       "      <td>Generation X</td>\n",
       "    </tr>\n",
       "    <tr>\n",
       "      <th>1</th>\n",
       "      <td>1</td>\n",
       "      <td>Nancy</td>\n",
       "      <td>Davolio</td>\n",
       "      <td>Sales Representative</td>\n",
       "      <td>Ms.</td>\n",
       "      <td>1948-12-08</td>\n",
       "      <td>1992-05-01</td>\n",
       "      <td>507 - 20th Ave. E.Apt. 2A</td>\n",
       "      <td>Seattle</td>\n",
       "      <td>98122</td>\n",
       "      <td>...</td>\n",
       "      <td>Graz</td>\n",
       "      <td>Austria</td>\n",
       "      <td>19713</td>\n",
       "      <td>Neward                                        ...</td>\n",
       "      <td>1</td>\n",
       "      <td>Eastern                                       ...</td>\n",
       "      <td>Female</td>\n",
       "      <td>3</td>\n",
       "      <td>47</td>\n",
       "      <td>Generation X</td>\n",
       "    </tr>\n",
       "    <tr>\n",
       "      <th>2</th>\n",
       "      <td>1</td>\n",
       "      <td>Nancy</td>\n",
       "      <td>Davolio</td>\n",
       "      <td>Sales Representative</td>\n",
       "      <td>Ms.</td>\n",
       "      <td>1948-12-08</td>\n",
       "      <td>1992-05-01</td>\n",
       "      <td>507 - 20th Ave. E.Apt. 2A</td>\n",
       "      <td>Seattle</td>\n",
       "      <td>98122</td>\n",
       "      <td>...</td>\n",
       "      <td>Oulu</td>\n",
       "      <td>Finland</td>\n",
       "      <td>6897</td>\n",
       "      <td>Wilton                                        ...</td>\n",
       "      <td>1</td>\n",
       "      <td>Eastern                                       ...</td>\n",
       "      <td>Female</td>\n",
       "      <td>3</td>\n",
       "      <td>47</td>\n",
       "      <td>Generation X</td>\n",
       "    </tr>\n",
       "    <tr>\n",
       "      <th>3</th>\n",
       "      <td>1</td>\n",
       "      <td>Nancy</td>\n",
       "      <td>Davolio</td>\n",
       "      <td>Sales Representative</td>\n",
       "      <td>Ms.</td>\n",
       "      <td>1948-12-08</td>\n",
       "      <td>1992-05-01</td>\n",
       "      <td>507 - 20th Ave. E.Apt. 2A</td>\n",
       "      <td>Seattle</td>\n",
       "      <td>98122</td>\n",
       "      <td>...</td>\n",
       "      <td>Oulu</td>\n",
       "      <td>Finland</td>\n",
       "      <td>19713</td>\n",
       "      <td>Neward                                        ...</td>\n",
       "      <td>1</td>\n",
       "      <td>Eastern                                       ...</td>\n",
       "      <td>Female</td>\n",
       "      <td>3</td>\n",
       "      <td>47</td>\n",
       "      <td>Generation X</td>\n",
       "    </tr>\n",
       "    <tr>\n",
       "      <th>4</th>\n",
       "      <td>1</td>\n",
       "      <td>Nancy</td>\n",
       "      <td>Davolio</td>\n",
       "      <td>Sales Representative</td>\n",
       "      <td>Ms.</td>\n",
       "      <td>1948-12-08</td>\n",
       "      <td>1992-05-01</td>\n",
       "      <td>507 - 20th Ave. E.Apt. 2A</td>\n",
       "      <td>Seattle</td>\n",
       "      <td>98122</td>\n",
       "      <td>...</td>\n",
       "      <td>Bergamo</td>\n",
       "      <td>Italy</td>\n",
       "      <td>6897</td>\n",
       "      <td>Wilton                                        ...</td>\n",
       "      <td>1</td>\n",
       "      <td>Eastern                                       ...</td>\n",
       "      <td>Female</td>\n",
       "      <td>3</td>\n",
       "      <td>47</td>\n",
       "      <td>Generation X</td>\n",
       "    </tr>\n",
       "  </tbody>\n",
       "</table>\n",
       "<p>5 rows × 35 columns</p>\n",
       "</div>"
      ],
      "text/plain": [
       "  EmployeeID FirstName LastName                 Title TitleOfCourtesy  \\\n",
       "0          1     Nancy  Davolio  Sales Representative             Ms.   \n",
       "1          1     Nancy  Davolio  Sales Representative             Ms.   \n",
       "2          1     Nancy  Davolio  Sales Representative             Ms.   \n",
       "3          1     Nancy  Davolio  Sales Representative             Ms.   \n",
       "4          1     Nancy  Davolio  Sales Representative             Ms.   \n",
       "\n",
       "   BirthDate   HireDate                    Address     City PostalCode  ...  \\\n",
       "0 1948-12-08 1992-05-01  507 - 20th Ave. E.Apt. 2A  Seattle      98122  ...   \n",
       "1 1948-12-08 1992-05-01  507 - 20th Ave. E.Apt. 2A  Seattle      98122  ...   \n",
       "2 1948-12-08 1992-05-01  507 - 20th Ave. E.Apt. 2A  Seattle      98122  ...   \n",
       "3 1948-12-08 1992-05-01  507 - 20th Ave. E.Apt. 2A  Seattle      98122  ...   \n",
       "4 1948-12-08 1992-05-01  507 - 20th Ave. E.Apt. 2A  Seattle      98122  ...   \n",
       "\n",
       "  ShipCity ShipCountry  TerritoryID  \\\n",
       "0     Graz     Austria         6897   \n",
       "1     Graz     Austria        19713   \n",
       "2     Oulu     Finland         6897   \n",
       "3     Oulu     Finland        19713   \n",
       "4  Bergamo       Italy         6897   \n",
       "\n",
       "                                TerritoryDescription RegionID  \\\n",
       "0  Wilton                                        ...        1   \n",
       "1  Neward                                        ...        1   \n",
       "2  Wilton                                        ...        1   \n",
       "3  Neward                                        ...        1   \n",
       "4  Wilton                                        ...        1   \n",
       "\n",
       "                                   RegionDescription  Gender  \\\n",
       "0  Eastern                                       ...  Female   \n",
       "1  Eastern                                       ...  Female   \n",
       "2  Eastern                                       ...  Female   \n",
       "3  Eastern                                       ...  Female   \n",
       "4  Eastern                                       ...  Female   \n",
       "\n",
       "  DurationWorkingTime Age AgeGeneration  \n",
       "0                   3  47  Generation X  \n",
       "1                   3  47  Generation X  \n",
       "2                   3  47  Generation X  \n",
       "3                   3  47  Generation X  \n",
       "4                   3  47  Generation X  \n",
       "\n",
       "[5 rows x 35 columns]"
      ]
     },
     "execution_count": 47,
     "metadata": {},
     "output_type": "execute_result"
    }
   ],
   "source": [
    "outlier_index = tabel1[(tabel1['Salary'] < Q1_amount - (1.5 * iqr)) | (tabel1['Salary']> Q3_amount + (1.5 * iqr)) ].index\n",
    "not_outlier_index = tabel1[(tabel1['Salary'] > Q1_amount - (1.5 * iqr)) & (tabel1['Salary']< Q3_amount + (1.5 * iqr)) ].index\n",
    "tabel1.loc[outlier_index].head()"
   ]
  },
  {
   "cell_type": "markdown",
   "metadata": {},
   "source": [
    "## **Membuat Feature 'Total Salary and Bonus'**\n",
    "Pada feature ini berfokus pada penambahan kolom baru berupa bonus dan satu kolom baru lainnya yaitu total salary dan bonus yang didapatkan oleh tiap-tiap employee dari perusahaan Northwind."
   ]
  },
  {
   "cell_type": "code",
   "execution_count": 48,
   "metadata": {},
   "outputs": [],
   "source": [
    "# Add new column of compensation for employee salary \n",
    "def convert_bonus_salary(row):\n",
    "    if row['Title'] == 'Sales Representative':\n",
    "        return 100\n",
    "    elif row['Title'] == 'Inside Sales Coordinator':\n",
    "        return 250\n",
    "    elif row['Title'] == 'Sales Manager':\n",
    "        return 350\n",
    "    else:\n",
    "        return 500\n",
    "\n",
    "tabel1['Bonus'] = tabel1.apply(convert_bonus_salary, axis=1)"
   ]
  },
  {
   "cell_type": "code",
   "execution_count": 49,
   "metadata": {},
   "outputs": [
    {
     "data": {
      "text/html": [
       "<div>\n",
       "<style scoped>\n",
       "    .dataframe tbody tr th:only-of-type {\n",
       "        vertical-align: middle;\n",
       "    }\n",
       "\n",
       "    .dataframe tbody tr th {\n",
       "        vertical-align: top;\n",
       "    }\n",
       "\n",
       "    .dataframe thead th {\n",
       "        text-align: right;\n",
       "    }\n",
       "</style>\n",
       "<table border=\"1\" class=\"dataframe\">\n",
       "  <thead>\n",
       "    <tr style=\"text-align: right;\">\n",
       "      <th></th>\n",
       "      <th>EmployeeID</th>\n",
       "      <th>FirstName</th>\n",
       "      <th>LastName</th>\n",
       "      <th>Title</th>\n",
       "      <th>TitleOfCourtesy</th>\n",
       "      <th>BirthDate</th>\n",
       "      <th>HireDate</th>\n",
       "      <th>Address</th>\n",
       "      <th>City</th>\n",
       "      <th>PostalCode</th>\n",
       "      <th>...</th>\n",
       "      <th>TerritoryID</th>\n",
       "      <th>TerritoryDescription</th>\n",
       "      <th>RegionID</th>\n",
       "      <th>RegionDescription</th>\n",
       "      <th>Gender</th>\n",
       "      <th>DurationWorkingTime</th>\n",
       "      <th>Age</th>\n",
       "      <th>AgeGeneration</th>\n",
       "      <th>Bonus</th>\n",
       "      <th>SalaryBonus</th>\n",
       "    </tr>\n",
       "  </thead>\n",
       "  <tbody>\n",
       "    <tr>\n",
       "      <th>0</th>\n",
       "      <td>1</td>\n",
       "      <td>Nancy</td>\n",
       "      <td>Davolio</td>\n",
       "      <td>Sales Representative</td>\n",
       "      <td>Ms.</td>\n",
       "      <td>1948-12-08</td>\n",
       "      <td>1992-05-01</td>\n",
       "      <td>507 - 20th Ave. E.Apt. 2A</td>\n",
       "      <td>Seattle</td>\n",
       "      <td>98122</td>\n",
       "      <td>...</td>\n",
       "      <td>6897</td>\n",
       "      <td>Wilton                                        ...</td>\n",
       "      <td>1</td>\n",
       "      <td>Eastern                                       ...</td>\n",
       "      <td>Female</td>\n",
       "      <td>3</td>\n",
       "      <td>47</td>\n",
       "      <td>Generation X</td>\n",
       "      <td>100</td>\n",
       "      <td>295400</td>\n",
       "    </tr>\n",
       "    <tr>\n",
       "      <th>1</th>\n",
       "      <td>1</td>\n",
       "      <td>Nancy</td>\n",
       "      <td>Davolio</td>\n",
       "      <td>Sales Representative</td>\n",
       "      <td>Ms.</td>\n",
       "      <td>1948-12-08</td>\n",
       "      <td>1992-05-01</td>\n",
       "      <td>507 - 20th Ave. E.Apt. 2A</td>\n",
       "      <td>Seattle</td>\n",
       "      <td>98122</td>\n",
       "      <td>...</td>\n",
       "      <td>19713</td>\n",
       "      <td>Neward                                        ...</td>\n",
       "      <td>1</td>\n",
       "      <td>Eastern                                       ...</td>\n",
       "      <td>Female</td>\n",
       "      <td>3</td>\n",
       "      <td>47</td>\n",
       "      <td>Generation X</td>\n",
       "      <td>100</td>\n",
       "      <td>295400</td>\n",
       "    </tr>\n",
       "    <tr>\n",
       "      <th>2</th>\n",
       "      <td>1</td>\n",
       "      <td>Nancy</td>\n",
       "      <td>Davolio</td>\n",
       "      <td>Sales Representative</td>\n",
       "      <td>Ms.</td>\n",
       "      <td>1948-12-08</td>\n",
       "      <td>1992-05-01</td>\n",
       "      <td>507 - 20th Ave. E.Apt. 2A</td>\n",
       "      <td>Seattle</td>\n",
       "      <td>98122</td>\n",
       "      <td>...</td>\n",
       "      <td>6897</td>\n",
       "      <td>Wilton                                        ...</td>\n",
       "      <td>1</td>\n",
       "      <td>Eastern                                       ...</td>\n",
       "      <td>Female</td>\n",
       "      <td>3</td>\n",
       "      <td>47</td>\n",
       "      <td>Generation X</td>\n",
       "      <td>100</td>\n",
       "      <td>295400</td>\n",
       "    </tr>\n",
       "    <tr>\n",
       "      <th>3</th>\n",
       "      <td>1</td>\n",
       "      <td>Nancy</td>\n",
       "      <td>Davolio</td>\n",
       "      <td>Sales Representative</td>\n",
       "      <td>Ms.</td>\n",
       "      <td>1948-12-08</td>\n",
       "      <td>1992-05-01</td>\n",
       "      <td>507 - 20th Ave. E.Apt. 2A</td>\n",
       "      <td>Seattle</td>\n",
       "      <td>98122</td>\n",
       "      <td>...</td>\n",
       "      <td>19713</td>\n",
       "      <td>Neward                                        ...</td>\n",
       "      <td>1</td>\n",
       "      <td>Eastern                                       ...</td>\n",
       "      <td>Female</td>\n",
       "      <td>3</td>\n",
       "      <td>47</td>\n",
       "      <td>Generation X</td>\n",
       "      <td>100</td>\n",
       "      <td>295400</td>\n",
       "    </tr>\n",
       "    <tr>\n",
       "      <th>4</th>\n",
       "      <td>1</td>\n",
       "      <td>Nancy</td>\n",
       "      <td>Davolio</td>\n",
       "      <td>Sales Representative</td>\n",
       "      <td>Ms.</td>\n",
       "      <td>1948-12-08</td>\n",
       "      <td>1992-05-01</td>\n",
       "      <td>507 - 20th Ave. E.Apt. 2A</td>\n",
       "      <td>Seattle</td>\n",
       "      <td>98122</td>\n",
       "      <td>...</td>\n",
       "      <td>6897</td>\n",
       "      <td>Wilton                                        ...</td>\n",
       "      <td>1</td>\n",
       "      <td>Eastern                                       ...</td>\n",
       "      <td>Female</td>\n",
       "      <td>3</td>\n",
       "      <td>47</td>\n",
       "      <td>Generation X</td>\n",
       "      <td>100</td>\n",
       "      <td>295400</td>\n",
       "    </tr>\n",
       "  </tbody>\n",
       "</table>\n",
       "<p>5 rows × 37 columns</p>\n",
       "</div>"
      ],
      "text/plain": [
       "  EmployeeID FirstName LastName                 Title TitleOfCourtesy  \\\n",
       "0          1     Nancy  Davolio  Sales Representative             Ms.   \n",
       "1          1     Nancy  Davolio  Sales Representative             Ms.   \n",
       "2          1     Nancy  Davolio  Sales Representative             Ms.   \n",
       "3          1     Nancy  Davolio  Sales Representative             Ms.   \n",
       "4          1     Nancy  Davolio  Sales Representative             Ms.   \n",
       "\n",
       "   BirthDate   HireDate                    Address     City PostalCode  ...  \\\n",
       "0 1948-12-08 1992-05-01  507 - 20th Ave. E.Apt. 2A  Seattle      98122  ...   \n",
       "1 1948-12-08 1992-05-01  507 - 20th Ave. E.Apt. 2A  Seattle      98122  ...   \n",
       "2 1948-12-08 1992-05-01  507 - 20th Ave. E.Apt. 2A  Seattle      98122  ...   \n",
       "3 1948-12-08 1992-05-01  507 - 20th Ave. E.Apt. 2A  Seattle      98122  ...   \n",
       "4 1948-12-08 1992-05-01  507 - 20th Ave. E.Apt. 2A  Seattle      98122  ...   \n",
       "\n",
       "  TerritoryID                               TerritoryDescription  RegionID  \\\n",
       "0        6897  Wilton                                        ...         1   \n",
       "1       19713  Neward                                        ...         1   \n",
       "2        6897  Wilton                                        ...         1   \n",
       "3       19713  Neward                                        ...         1   \n",
       "4        6897  Wilton                                        ...         1   \n",
       "\n",
       "                                   RegionDescription  Gender  \\\n",
       "0  Eastern                                       ...  Female   \n",
       "1  Eastern                                       ...  Female   \n",
       "2  Eastern                                       ...  Female   \n",
       "3  Eastern                                       ...  Female   \n",
       "4  Eastern                                       ...  Female   \n",
       "\n",
       "  DurationWorkingTime  Age AgeGeneration Bonus SalaryBonus  \n",
       "0                   3   47  Generation X   100      295400  \n",
       "1                   3   47  Generation X   100      295400  \n",
       "2                   3   47  Generation X   100      295400  \n",
       "3                   3   47  Generation X   100      295400  \n",
       "4                   3   47  Generation X   100      295400  \n",
       "\n",
       "[5 rows x 37 columns]"
      ]
     },
     "execution_count": 49,
     "metadata": {},
     "output_type": "execute_result"
    }
   ],
   "source": [
    "# Adding New Column With Lambda Function\n",
    "\n",
    "tabel1['SalaryBonus'] = tabel1[['Salary', 'Bonus']].apply(lambda x:(x['Salary'] * x['Bonus']), axis = 1)\n",
    "tabel1.head()"
   ]
  },
  {
   "cell_type": "code",
   "execution_count": 50,
   "metadata": {},
   "outputs": [],
   "source": [
    "# Export dataset\n",
    "# tabel1.to_excel('df_data_employee.xlsx', index=False)"
   ]
  },
  {
   "cell_type": "markdown",
   "metadata": {},
   "source": [
    "# **DATA VISUALIZATION & STATISTICS**"
   ]
  },
  {
   "cell_type": "markdown",
   "metadata": {},
   "source": [
    "Setelah mendapatkan data yang sudah 'bersih' dan siap untuk digunakan, masuklah kita ke bagian analisis data dengan menggunakan visual sebagai medianya. Di sini, kita akan melakukan visualisasi data untuk mendapatkan beberapa insight yang kemudian dapat menjadi landasan dalam pengambilan keputusan dan penyusunan strategi yang kuat untuk mendapatkan profit yang sebesar-besarnya dengan kerugian yang minim."
   ]
  },
  {
   "cell_type": "code",
   "execution_count": 51,
   "metadata": {},
   "outputs": [],
   "source": [
    "import plotly.express as px\n",
    "import matplotlib.pyplot as plt\n",
    "import seaborn as sns"
   ]
  },
  {
   "cell_type": "markdown",
   "metadata": {},
   "source": [
    "## **Distribution of Northwind Employee by Gender**"
   ]
  },
  {
   "cell_type": "code",
   "execution_count": 52,
   "metadata": {},
   "outputs": [
    {
     "data": {
      "application/vnd.plotly.v1+json": {
       "config": {
        "plotlyServerURL": "https://plot.ly"
       },
       "data": [
        {
         "alignmentgroup": "True",
         "hovertemplate": "variable=Gender<br>index=%{x}<br>value=%{y}<extra></extra>",
         "legendgroup": "Gender",
         "marker": {
          "color": "#636efa",
          "pattern": {
           "shape": ""
          }
         },
         "name": "Gender",
         "offsetgroup": "Gender",
         "orientation": "v",
         "showlegend": true,
         "textposition": "auto",
         "type": "bar",
         "x": [
          "Female",
          "Male"
         ],
         "xaxis": "x",
         "y": [
          1939,
          1349
         ],
         "yaxis": "y"
        }
       ],
       "layout": {
        "barmode": "relative",
        "legend": {
         "title": {
          "text": "variable"
         },
         "tracegroupgap": 0
        },
        "template": {
         "data": {
          "bar": [
           {
            "error_x": {
             "color": "#2a3f5f"
            },
            "error_y": {
             "color": "#2a3f5f"
            },
            "marker": {
             "line": {
              "color": "#E5ECF6",
              "width": 0.5
             },
             "pattern": {
              "fillmode": "overlay",
              "size": 10,
              "solidity": 0.2
             }
            },
            "type": "bar"
           }
          ],
          "barpolar": [
           {
            "marker": {
             "line": {
              "color": "#E5ECF6",
              "width": 0.5
             },
             "pattern": {
              "fillmode": "overlay",
              "size": 10,
              "solidity": 0.2
             }
            },
            "type": "barpolar"
           }
          ],
          "carpet": [
           {
            "aaxis": {
             "endlinecolor": "#2a3f5f",
             "gridcolor": "white",
             "linecolor": "white",
             "minorgridcolor": "white",
             "startlinecolor": "#2a3f5f"
            },
            "baxis": {
             "endlinecolor": "#2a3f5f",
             "gridcolor": "white",
             "linecolor": "white",
             "minorgridcolor": "white",
             "startlinecolor": "#2a3f5f"
            },
            "type": "carpet"
           }
          ],
          "choropleth": [
           {
            "colorbar": {
             "outlinewidth": 0,
             "ticks": ""
            },
            "type": "choropleth"
           }
          ],
          "contour": [
           {
            "colorbar": {
             "outlinewidth": 0,
             "ticks": ""
            },
            "colorscale": [
             [
              0,
              "#0d0887"
             ],
             [
              0.1111111111111111,
              "#46039f"
             ],
             [
              0.2222222222222222,
              "#7201a8"
             ],
             [
              0.3333333333333333,
              "#9c179e"
             ],
             [
              0.4444444444444444,
              "#bd3786"
             ],
             [
              0.5555555555555556,
              "#d8576b"
             ],
             [
              0.6666666666666666,
              "#ed7953"
             ],
             [
              0.7777777777777778,
              "#fb9f3a"
             ],
             [
              0.8888888888888888,
              "#fdca26"
             ],
             [
              1,
              "#f0f921"
             ]
            ],
            "type": "contour"
           }
          ],
          "contourcarpet": [
           {
            "colorbar": {
             "outlinewidth": 0,
             "ticks": ""
            },
            "type": "contourcarpet"
           }
          ],
          "heatmap": [
           {
            "colorbar": {
             "outlinewidth": 0,
             "ticks": ""
            },
            "colorscale": [
             [
              0,
              "#0d0887"
             ],
             [
              0.1111111111111111,
              "#46039f"
             ],
             [
              0.2222222222222222,
              "#7201a8"
             ],
             [
              0.3333333333333333,
              "#9c179e"
             ],
             [
              0.4444444444444444,
              "#bd3786"
             ],
             [
              0.5555555555555556,
              "#d8576b"
             ],
             [
              0.6666666666666666,
              "#ed7953"
             ],
             [
              0.7777777777777778,
              "#fb9f3a"
             ],
             [
              0.8888888888888888,
              "#fdca26"
             ],
             [
              1,
              "#f0f921"
             ]
            ],
            "type": "heatmap"
           }
          ],
          "heatmapgl": [
           {
            "colorbar": {
             "outlinewidth": 0,
             "ticks": ""
            },
            "colorscale": [
             [
              0,
              "#0d0887"
             ],
             [
              0.1111111111111111,
              "#46039f"
             ],
             [
              0.2222222222222222,
              "#7201a8"
             ],
             [
              0.3333333333333333,
              "#9c179e"
             ],
             [
              0.4444444444444444,
              "#bd3786"
             ],
             [
              0.5555555555555556,
              "#d8576b"
             ],
             [
              0.6666666666666666,
              "#ed7953"
             ],
             [
              0.7777777777777778,
              "#fb9f3a"
             ],
             [
              0.8888888888888888,
              "#fdca26"
             ],
             [
              1,
              "#f0f921"
             ]
            ],
            "type": "heatmapgl"
           }
          ],
          "histogram": [
           {
            "marker": {
             "pattern": {
              "fillmode": "overlay",
              "size": 10,
              "solidity": 0.2
             }
            },
            "type": "histogram"
           }
          ],
          "histogram2d": [
           {
            "colorbar": {
             "outlinewidth": 0,
             "ticks": ""
            },
            "colorscale": [
             [
              0,
              "#0d0887"
             ],
             [
              0.1111111111111111,
              "#46039f"
             ],
             [
              0.2222222222222222,
              "#7201a8"
             ],
             [
              0.3333333333333333,
              "#9c179e"
             ],
             [
              0.4444444444444444,
              "#bd3786"
             ],
             [
              0.5555555555555556,
              "#d8576b"
             ],
             [
              0.6666666666666666,
              "#ed7953"
             ],
             [
              0.7777777777777778,
              "#fb9f3a"
             ],
             [
              0.8888888888888888,
              "#fdca26"
             ],
             [
              1,
              "#f0f921"
             ]
            ],
            "type": "histogram2d"
           }
          ],
          "histogram2dcontour": [
           {
            "colorbar": {
             "outlinewidth": 0,
             "ticks": ""
            },
            "colorscale": [
             [
              0,
              "#0d0887"
             ],
             [
              0.1111111111111111,
              "#46039f"
             ],
             [
              0.2222222222222222,
              "#7201a8"
             ],
             [
              0.3333333333333333,
              "#9c179e"
             ],
             [
              0.4444444444444444,
              "#bd3786"
             ],
             [
              0.5555555555555556,
              "#d8576b"
             ],
             [
              0.6666666666666666,
              "#ed7953"
             ],
             [
              0.7777777777777778,
              "#fb9f3a"
             ],
             [
              0.8888888888888888,
              "#fdca26"
             ],
             [
              1,
              "#f0f921"
             ]
            ],
            "type": "histogram2dcontour"
           }
          ],
          "mesh3d": [
           {
            "colorbar": {
             "outlinewidth": 0,
             "ticks": ""
            },
            "type": "mesh3d"
           }
          ],
          "parcoords": [
           {
            "line": {
             "colorbar": {
              "outlinewidth": 0,
              "ticks": ""
             }
            },
            "type": "parcoords"
           }
          ],
          "pie": [
           {
            "automargin": true,
            "type": "pie"
           }
          ],
          "scatter": [
           {
            "marker": {
             "colorbar": {
              "outlinewidth": 0,
              "ticks": ""
             }
            },
            "type": "scatter"
           }
          ],
          "scatter3d": [
           {
            "line": {
             "colorbar": {
              "outlinewidth": 0,
              "ticks": ""
             }
            },
            "marker": {
             "colorbar": {
              "outlinewidth": 0,
              "ticks": ""
             }
            },
            "type": "scatter3d"
           }
          ],
          "scattercarpet": [
           {
            "marker": {
             "colorbar": {
              "outlinewidth": 0,
              "ticks": ""
             }
            },
            "type": "scattercarpet"
           }
          ],
          "scattergeo": [
           {
            "marker": {
             "colorbar": {
              "outlinewidth": 0,
              "ticks": ""
             }
            },
            "type": "scattergeo"
           }
          ],
          "scattergl": [
           {
            "marker": {
             "colorbar": {
              "outlinewidth": 0,
              "ticks": ""
             }
            },
            "type": "scattergl"
           }
          ],
          "scattermapbox": [
           {
            "marker": {
             "colorbar": {
              "outlinewidth": 0,
              "ticks": ""
             }
            },
            "type": "scattermapbox"
           }
          ],
          "scatterpolar": [
           {
            "marker": {
             "colorbar": {
              "outlinewidth": 0,
              "ticks": ""
             }
            },
            "type": "scatterpolar"
           }
          ],
          "scatterpolargl": [
           {
            "marker": {
             "colorbar": {
              "outlinewidth": 0,
              "ticks": ""
             }
            },
            "type": "scatterpolargl"
           }
          ],
          "scatterternary": [
           {
            "marker": {
             "colorbar": {
              "outlinewidth": 0,
              "ticks": ""
             }
            },
            "type": "scatterternary"
           }
          ],
          "surface": [
           {
            "colorbar": {
             "outlinewidth": 0,
             "ticks": ""
            },
            "colorscale": [
             [
              0,
              "#0d0887"
             ],
             [
              0.1111111111111111,
              "#46039f"
             ],
             [
              0.2222222222222222,
              "#7201a8"
             ],
             [
              0.3333333333333333,
              "#9c179e"
             ],
             [
              0.4444444444444444,
              "#bd3786"
             ],
             [
              0.5555555555555556,
              "#d8576b"
             ],
             [
              0.6666666666666666,
              "#ed7953"
             ],
             [
              0.7777777777777778,
              "#fb9f3a"
             ],
             [
              0.8888888888888888,
              "#fdca26"
             ],
             [
              1,
              "#f0f921"
             ]
            ],
            "type": "surface"
           }
          ],
          "table": [
           {
            "cells": {
             "fill": {
              "color": "#EBF0F8"
             },
             "line": {
              "color": "white"
             }
            },
            "header": {
             "fill": {
              "color": "#C8D4E3"
             },
             "line": {
              "color": "white"
             }
            },
            "type": "table"
           }
          ]
         },
         "layout": {
          "annotationdefaults": {
           "arrowcolor": "#2a3f5f",
           "arrowhead": 0,
           "arrowwidth": 1
          },
          "autotypenumbers": "strict",
          "coloraxis": {
           "colorbar": {
            "outlinewidth": 0,
            "ticks": ""
           }
          },
          "colorscale": {
           "diverging": [
            [
             0,
             "#8e0152"
            ],
            [
             0.1,
             "#c51b7d"
            ],
            [
             0.2,
             "#de77ae"
            ],
            [
             0.3,
             "#f1b6da"
            ],
            [
             0.4,
             "#fde0ef"
            ],
            [
             0.5,
             "#f7f7f7"
            ],
            [
             0.6,
             "#e6f5d0"
            ],
            [
             0.7,
             "#b8e186"
            ],
            [
             0.8,
             "#7fbc41"
            ],
            [
             0.9,
             "#4d9221"
            ],
            [
             1,
             "#276419"
            ]
           ],
           "sequential": [
            [
             0,
             "#0d0887"
            ],
            [
             0.1111111111111111,
             "#46039f"
            ],
            [
             0.2222222222222222,
             "#7201a8"
            ],
            [
             0.3333333333333333,
             "#9c179e"
            ],
            [
             0.4444444444444444,
             "#bd3786"
            ],
            [
             0.5555555555555556,
             "#d8576b"
            ],
            [
             0.6666666666666666,
             "#ed7953"
            ],
            [
             0.7777777777777778,
             "#fb9f3a"
            ],
            [
             0.8888888888888888,
             "#fdca26"
            ],
            [
             1,
             "#f0f921"
            ]
           ],
           "sequentialminus": [
            [
             0,
             "#0d0887"
            ],
            [
             0.1111111111111111,
             "#46039f"
            ],
            [
             0.2222222222222222,
             "#7201a8"
            ],
            [
             0.3333333333333333,
             "#9c179e"
            ],
            [
             0.4444444444444444,
             "#bd3786"
            ],
            [
             0.5555555555555556,
             "#d8576b"
            ],
            [
             0.6666666666666666,
             "#ed7953"
            ],
            [
             0.7777777777777778,
             "#fb9f3a"
            ],
            [
             0.8888888888888888,
             "#fdca26"
            ],
            [
             1,
             "#f0f921"
            ]
           ]
          },
          "colorway": [
           "#636efa",
           "#EF553B",
           "#00cc96",
           "#ab63fa",
           "#FFA15A",
           "#19d3f3",
           "#FF6692",
           "#B6E880",
           "#FF97FF",
           "#FECB52"
          ],
          "font": {
           "color": "#2a3f5f"
          },
          "geo": {
           "bgcolor": "white",
           "lakecolor": "white",
           "landcolor": "#E5ECF6",
           "showlakes": true,
           "showland": true,
           "subunitcolor": "white"
          },
          "hoverlabel": {
           "align": "left"
          },
          "hovermode": "closest",
          "mapbox": {
           "style": "light"
          },
          "paper_bgcolor": "white",
          "plot_bgcolor": "#E5ECF6",
          "polar": {
           "angularaxis": {
            "gridcolor": "white",
            "linecolor": "white",
            "ticks": ""
           },
           "bgcolor": "#E5ECF6",
           "radialaxis": {
            "gridcolor": "white",
            "linecolor": "white",
            "ticks": ""
           }
          },
          "scene": {
           "xaxis": {
            "backgroundcolor": "#E5ECF6",
            "gridcolor": "white",
            "gridwidth": 2,
            "linecolor": "white",
            "showbackground": true,
            "ticks": "",
            "zerolinecolor": "white"
           },
           "yaxis": {
            "backgroundcolor": "#E5ECF6",
            "gridcolor": "white",
            "gridwidth": 2,
            "linecolor": "white",
            "showbackground": true,
            "ticks": "",
            "zerolinecolor": "white"
           },
           "zaxis": {
            "backgroundcolor": "#E5ECF6",
            "gridcolor": "white",
            "gridwidth": 2,
            "linecolor": "white",
            "showbackground": true,
            "ticks": "",
            "zerolinecolor": "white"
           }
          },
          "shapedefaults": {
           "line": {
            "color": "#2a3f5f"
           }
          },
          "ternary": {
           "aaxis": {
            "gridcolor": "white",
            "linecolor": "white",
            "ticks": ""
           },
           "baxis": {
            "gridcolor": "white",
            "linecolor": "white",
            "ticks": ""
           },
           "bgcolor": "#E5ECF6",
           "caxis": {
            "gridcolor": "white",
            "linecolor": "white",
            "ticks": ""
           }
          },
          "title": {
           "x": 0.05
          },
          "xaxis": {
           "automargin": true,
           "gridcolor": "white",
           "linecolor": "white",
           "ticks": "",
           "title": {
            "standoff": 15
           },
           "zerolinecolor": "white",
           "zerolinewidth": 2
          },
          "yaxis": {
           "automargin": true,
           "gridcolor": "white",
           "linecolor": "white",
           "ticks": "",
           "title": {
            "standoff": 15
           },
           "zerolinecolor": "white",
           "zerolinewidth": 2
          }
         }
        },
        "title": {
         "text": "Gender"
        },
        "xaxis": {
         "anchor": "y",
         "domain": [
          0,
          1
         ],
         "title": {
          "text": "index"
         }
        },
        "yaxis": {
         "anchor": "x",
         "domain": [
          0,
          1
         ],
         "title": {
          "text": "value"
         }
        }
       }
      }
     },
     "metadata": {},
     "output_type": "display_data"
    }
   ],
   "source": [
    "fig = px.bar(tabel1['Gender'].value_counts().head(),\n",
    "            title = 'Gender')\n",
    "fig.show()"
   ]
  },
  {
   "cell_type": "markdown",
   "metadata": {},
   "source": [
    "Berdasarkan hasil visualisasi diatas kita dapat menarik kesimpulan bahwa employee dengan gender **Female** atau perempuan merupakan distribusi gender terbanyak perusahaan Northwind, dengan ini employee dengan gender perempuan sangat memegang peran dalam keberlangsungan transaksi perusahaan.\n",
    "\n",
    "Sedangkan gender male atau laki-laki dapat terlihat memiliki kontribusi yang lebih rendah dari pada perempuan. Hal ini dikarenakan jumlah karyawan laki-laki memang jauh lebih sedikit dari pada karyawan perempuan untuk perusahaan Nortwhind. Oleh karena itu insight ini dapat dimanfaatkan nantinya untuk perusahaan Northwind dalam proses rekrutmen apabila ingin meningkatkan jumlah perekrutan karyawan dengan gender laki-laki."
   ]
  },
  {
   "cell_type": "markdown",
   "metadata": {},
   "source": [
    "## **Total of Orders Made by Category of Employee Age**"
   ]
  },
  {
   "cell_type": "code",
   "execution_count": 53,
   "metadata": {},
   "outputs": [
    {
     "name": "stderr",
     "output_type": "stream",
     "text": [
      "C:\\Users\\User\\AppData\\Local\\Programs\\Python\\Python310\\lib\\site-packages\\seaborn\\_decorators.py:36: FutureWarning:\n",
      "\n",
      "Pass the following variable as a keyword arg: x. From version 0.12, the only valid positional argument will be `data`, and passing other arguments without an explicit keyword will result in an error or misinterpretation.\n",
      "\n"
     ]
    },
    {
     "data": {
      "image/png": "[encoded data removed]",
      "text/plain": [
       "<Figure size 1080x360 with 1 Axes>"
      ]
     },
     "metadata": {
      "needs_background": "light"
     },
     "output_type": "display_data"
    }
   ],
   "source": [
    "plt.figure(figsize=(15,5))\n",
    "sns.countplot(tabel1['AgeGeneration'],\n",
    "            order = tabel1['AgeGeneration'].value_counts().index)\n",
    "\n",
    "plt.xlabel('Generation', size = 20)\n",
    "plt.ylabel('Total Orders Made', size = 20)\n",
    "plt.title ('Total of Orders Made by Category of Employee Age ', size = 30)\n",
    "\n",
    "plt.show()"
   ]
  },
  {
   "cell_type": "markdown",
   "metadata": {},
   "source": [
    "Setelah sebelumnya kita mengetahui bagaimana sebaran data employee perusahaan Northwind berdasarkan gender nya, kali ini kita akan melihat bagaimana sebaran data pelayanan order oleh employee untuk customer berdasarkan kategory umur pegawai atau employee.\n",
    "\n",
    "Dapat kita lihat kategori umur pegawai atau employee (Category of Employee Age) yang mendominasi total order yang dibuat oleh customer perusahaan Northwind adalah **Millenials**. Dimana rentang kategori umur untuk Millenials berkisar diantara **23 tahun - 38 tahun**.\n",
    "\n",
    "Kemudian Generasi X dan Baby Boomers menempati posisi terendah yang berurutan setelah Millenials yang dapat kita lihat pada data visualisasi diatas. \n"
   ]
  },
  {
   "cell_type": "markdown",
   "metadata": {},
   "source": [
    "## **Employee Territorial Distribution**"
   ]
  },
  {
   "cell_type": "code",
   "execution_count": 54,
   "metadata": {},
   "outputs": [],
   "source": [
    "# Define x and y label\n",
    "x = tabel1['EmployeeID']\n",
    "y = tabel1['TerritoryDescription']"
   ]
  },
  {
   "cell_type": "code",
   "execution_count": 55,
   "metadata": {},
   "outputs": [
    {
     "data": {
      "image/png": "[encoded data removed]",
      "text/plain": [
       "<Figure size 1440x1080 with 1 Axes>"
      ]
     },
     "metadata": {},
     "output_type": "display_data"
    }
   ],
   "source": [
    "plt.style.use('seaborn')\n",
    "plt.figure(figsize=(20,15)) \n",
    "\n",
    "plt.xlabel('Territory')\n",
    "plt.ylabel('EmployeeID') \n",
    "plt.barh(x,y)\n",
    "plt.tick_params(axis='x', rotation=90)\n",
    "\n",
    "plt.title('Barplot: Employee Territorial Distribution', size=8) \n",
    "plt.show() \n"
   ]
  },
  {
   "cell_type": "markdown",
   "metadata": {},
   "source": [
    "Kemudian selanjutnya kita ingin mendapatkan informasi yang lebih mendalam dari sisi distribusi teritori employee perusahaan Northwind bekerja. Terlihat **teritori** lokasi yang memiliki **sebaran employee terbanyak** adalah **Minneapolis**, kemudian disusul oleh Racine dan Santa Cruz.\n",
    "\n",
    "Kemudian untuk daerah teritori dengan sebaran employee bekerja terendah dari data visualisasi diatas adalah Neward. Dapat kita lihat, daerah teritori Neward memiliki presentase jumlah sebaran employee yang cukup jauh dari pada daerah teritori Tampa sebagai daerah teritori terendah kedua setelah Neward.\n",
    "\n",
    "Oleh karena itu strategi yang mungkin bisa diterapkan oleh perusahaan Northwind diantaranya:\n",
    "1. Membangun fasilitas dan akses kantor yang menunjang para pekerja atau employee perusahaan Northwind dalam bekerja.\n",
    "1. Karena adanya kemungkinan pengaruh banyaknya customer di suatu daerah atau teritori tertentu yang mempengaruhi sebaran employee disuatu tempat, perusahaan Northwind sebaiknya juga dapat meningkatkan kualitas barang, promosi dan penjualan produk-produk Northwind agar dapat menarik customer."
   ]
  },
  {
   "cell_type": "markdown",
   "metadata": {},
   "source": [
    "## **Employee Regional Distribution**"
   ]
  },
  {
   "cell_type": "code",
   "execution_count": 56,
   "metadata": {},
   "outputs": [
    {
     "data": {
      "image/png": "[encoded data removed]",
      "text/plain": [
       "<Figure size 720x504 with 1 Axes>"
      ]
     },
     "metadata": {},
     "output_type": "display_data"
    }
   ],
   "source": [
    "# Pie Chart Region Description\n",
    "\n",
    "plt.style.use('seaborn')\n",
    "plt.figure(figsize=(10,7))\n",
    "\n",
    "plt.pie(tabel1['RegionDescription'].value_counts().values, \n",
    "        autopct='%.2f%%',shadow=False) # , explode= (0.1,0.2,0.1,0.1)\n",
    "\n",
    "plt.title ('Employee Regional Distribution', size = 30)\n",
    "plt.legend(tabel1['RegionDescription'].unique())\n",
    "plt.show()"
   ]
  },
  {
   "cell_type": "markdown",
   "metadata": {},
   "source": [
    "Dari pie chart diagram diatas dapat terlihat bahwa sebanyak 32.09% dari karyawan atau employee perusahaan Northwind terdistribusi di daerah Timur (Eastern), kemudian disusul sebanyak 30.66% dari karyawan atau employee terdistribusi pada daerah selatan (Southern), 21.81%  dari karyawan atau employee terdistribusi pada daerah barat (Western), dan yang terakhir sebanyak 15.45% dari karyawan atau employee perusahaan Northwind terdistribusi di daerah utara atau Northern.\n",
    "\n",
    "Dari hasil tersebut dapat disimpulkan bahwa **sebaran** karyawan atau **employee perusahaan Northwind terbanyak** bertempat pada **region Eastern** atau daerah Timur."
   ]
  },
  {
   "cell_type": "markdown",
   "metadata": {},
   "source": [
    "## **Perbedaan Salary tiap Period of Employment**"
   ]
  },
  {
   "cell_type": "markdown",
   "metadata": {},
   "source": [
    "Uji normalitas menggunakan Kolmogorov Smirnov, alasan penggunaan uji normalitas ini adalah:\n",
    "- Uji Kolmogorov smirnov memiliki kelebihan yaitu tidak timbul banyak persepsi antar pengamat.\n",
    "- Pengujian dengan menggunakan uji Kolmogorov smirnov juga terbilang sederhana."
   ]
  },
  {
   "cell_type": "code",
   "execution_count": 57,
   "metadata": {},
   "outputs": [
    {
     "name": "stdout",
     "output_type": "stream",
     "text": [
      "Tolak H0 Karena P-Value (0.0 < 5%)\n",
      "DATA TIDAK BERDISTRIBUSI NORMAL\n"
     ]
    }
   ],
   "source": [
    "# Uji perbandingan nilai Salary antar setiap Period of Employment (Normalitas)\n",
    "\n",
    "from scipy.stats import kstest\n",
    "\n",
    "ks_statistic, ks_pvalue = kstest(tabel1['Salary'], 'norm')\n",
    "\n",
    "if ks_pvalue > 0.05: \n",
    "    print (f'Gagal Tolak H0 Karena P-Value ({ks_pvalue} > 5%)')\n",
    "    print ('DATA BERDISTRIBUSI NORMAL')\n",
    "\n",
    "else: \n",
    "    print (f'Tolak H0 Karena P-Value ({ks_pvalue} < 5%)')\n",
    "    print ('DATA TIDAK BERDISTRIBUSI NORMAL')"
   ]
  },
  {
   "cell_type": "markdown",
   "metadata": {},
   "source": [
    "Konsep dasar uji Kruskal Wallis:\n",
    "- Uji kruskal wallis merupakan bagian dari statistik non-parametrik.\n",
    "- Uji kruskal wallis digunakan sebagai alternatif dari uji one way anova ketika salah satu atau seluruh sebaran data tidak berdistribusi normal."
   ]
  },
  {
   "cell_type": "code",
   "execution_count": 58,
   "metadata": {},
   "outputs": [
    {
     "name": "stdout",
     "output_type": "stream",
     "text": [
      "Tolak H0 Karena P-Value (0.0 < 5%)\n",
      "Terdapat Perbedaan Nilai Median Salary pada Setiap Period of Employment (Lama waktu kerja employee)\n"
     ]
    }
   ],
   "source": [
    "# Uji perbandingan nilai Salary antar setiap Period of Employment (Kruskal Wallis)\n",
    "from scipy.stats import kruskal\n",
    "\n",
    "krus, pvalkrus = kruskal(\n",
    "    tabel1[tabel1['DurationWorkingTime'] == 1]['Salary'],\n",
    "    tabel1[tabel1['DurationWorkingTime'] == 2]['Salary'],\n",
    "    tabel1[tabel1['DurationWorkingTime'] == 3]['Salary'],\n",
    ") \n",
    "\n",
    "if pvalkrus < 0.05 :\n",
    "    print (f'Tolak H0 Karena P-Value ({ks_pvalue} < 5%)')\n",
    "    print ('Terdapat Perbedaan Nilai Median Salary pada Setiap Period of Employment (Lama waktu kerja employee)')\n",
    "else :\n",
    "    print (f'Gagal Tolak H0 Karena P-Value ({ks_pvalue} > 5%)')\n",
    "    print ('Tidak Terdapat Perbedaan Nilai Median Salary pada Setiap Period of Employment (Lama waktu kerja employee)')"
   ]
  },
  {
   "cell_type": "markdown",
   "metadata": {},
   "source": [
    "## **Hubungan Salary dengan  Period of Employment dan Age**"
   ]
  },
  {
   "cell_type": "code",
   "execution_count": 59,
   "metadata": {},
   "outputs": [
    {
     "data": {
      "text/html": [
       "<div>\n",
       "<style scoped>\n",
       "    .dataframe tbody tr th:only-of-type {\n",
       "        vertical-align: middle;\n",
       "    }\n",
       "\n",
       "    .dataframe tbody tr th {\n",
       "        vertical-align: top;\n",
       "    }\n",
       "\n",
       "    .dataframe thead th {\n",
       "        text-align: right;\n",
       "    }\n",
       "</style>\n",
       "<table border=\"1\" class=\"dataframe\">\n",
       "  <thead>\n",
       "    <tr style=\"text-align: right;\">\n",
       "      <th></th>\n",
       "      <th>Salary</th>\n",
       "      <th>DurationWorkingTime</th>\n",
       "      <th>Age</th>\n",
       "    </tr>\n",
       "  </thead>\n",
       "  <tbody>\n",
       "    <tr>\n",
       "      <th>Salary</th>\n",
       "      <td>1.000000</td>\n",
       "      <td>0.321652</td>\n",
       "      <td>-0.584604</td>\n",
       "    </tr>\n",
       "    <tr>\n",
       "      <th>DurationWorkingTime</th>\n",
       "      <td>0.321652</td>\n",
       "      <td>1.000000</td>\n",
       "      <td>0.102609</td>\n",
       "    </tr>\n",
       "    <tr>\n",
       "      <th>Age</th>\n",
       "      <td>-0.584604</td>\n",
       "      <td>0.102609</td>\n",
       "      <td>1.000000</td>\n",
       "    </tr>\n",
       "  </tbody>\n",
       "</table>\n",
       "</div>"
      ],
      "text/plain": [
       "                       Salary  DurationWorkingTime       Age\n",
       "Salary               1.000000             0.321652 -0.584604\n",
       "DurationWorkingTime  0.321652             1.000000  0.102609\n",
       "Age                 -0.584604             0.102609  1.000000"
      ]
     },
     "execution_count": 59,
     "metadata": {},
     "output_type": "execute_result"
    }
   ],
   "source": [
    "tabel1[['Salary', 'DurationWorkingTime','Age']].corr(method = 'spearman')"
   ]
  },
  {
   "cell_type": "code",
   "execution_count": 60,
   "metadata": {},
   "outputs": [
    {
     "data": {
      "image/png": "[encoded data removed]",
      "text/plain": [
       "<Figure size 576x396 with 2 Axes>"
      ]
     },
     "metadata": {},
     "output_type": "display_data"
    }
   ],
   "source": [
    "# Korelasi\n",
    "\n",
    "sns.heatmap(tabel1[['Salary', 'DurationWorkingTime','Age']].corr('spearman'), annot=True)\n",
    "plt.show()\n",
    "\t"
   ]
  },
  {
   "cell_type": "code",
   "execution_count": 61,
   "metadata": {},
   "outputs": [
    {
     "name": "stderr",
     "output_type": "stream",
     "text": [
      "C:\\Users\\User\\AppData\\Local\\Programs\\Python\\Python310\\lib\\site-packages\\seaborn\\_decorators.py:36: FutureWarning:\n",
      "\n",
      "Pass the following variables as keyword args: x, y. From version 0.12, the only valid positional argument will be `data`, and passing other arguments without an explicit keyword will result in an error or misinterpretation.\n",
      "\n"
     ]
    },
    {
     "data": {
      "image/png": "[encoded data removed]",
      "text/plain": [
       "<Figure size 720x360 with 1 Axes>"
      ]
     },
     "metadata": {},
     "output_type": "display_data"
    }
   ],
   "source": [
    "# Korelasi Antara Salary dan Period of Employment\n",
    "\n",
    "plt.figure(figsize=(10,5))\n",
    "sns.scatterplot(tabel1['Salary'], tabel1['DurationWorkingTime'])\n",
    "plt.show()"
   ]
  },
  {
   "cell_type": "code",
   "execution_count": 62,
   "metadata": {},
   "outputs": [
    {
     "name": "stderr",
     "output_type": "stream",
     "text": [
      "C:\\Users\\User\\AppData\\Local\\Programs\\Python\\Python310\\lib\\site-packages\\seaborn\\_decorators.py:36: FutureWarning:\n",
      "\n",
      "Pass the following variables as keyword args: x, y. From version 0.12, the only valid positional argument will be `data`, and passing other arguments without an explicit keyword will result in an error or misinterpretation.\n",
      "\n"
     ]
    },
    {
     "data": {
      "image/png": "[encoded data removed]",
      "text/plain": [
       "<Figure size 720x360 with 1 Axes>"
      ]
     },
     "metadata": {},
     "output_type": "display_data"
    }
   ],
   "source": [
    "# Korelasi Antara Salary dan Age\n",
    "\n",
    "plt.figure(figsize=(10,5))\n",
    "sns.scatterplot(tabel1['Salary'], tabel1['Age'])\n",
    "plt.show()"
   ]
  },
  {
   "cell_type": "markdown",
   "metadata": {},
   "source": [
    "Dapat disimpulkan bahwa jenis korelasi pada kedua visualisasi data diatas adalah tidak berkorelasi, baik Salary dengan Period of Employment maupun hubungan antara Salary dengan Age."
   ]
  }
 ],
 "metadata": {
  "interpreter": {
   "hash": "aecd030d4c8316a52bf122072e28f84bcc79844c2684e041fef2e3f1d9f59078"
  },
  "kernelspec": {
   "display_name": "Python 3.10.1 64-bit",
   "language": "python",
   "name": "python3"
  },
  "language_info": {
   "codemirror_mode": {
    "name": "ipython",
    "version": 3
   },
   "file_extension": ".py",
   "mimetype": "text/x-python",
   "name": "python",
   "nbconvert_exporter": "python",
   "pygments_lexer": "ipython3",
   "version": "3.10.1"
  },
  "orig_nbformat": 4
 },
 "nbformat": 4,
 "nbformat_minor": 2
}
